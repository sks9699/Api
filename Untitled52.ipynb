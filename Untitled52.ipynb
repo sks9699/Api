{
  "cells": [
    {
      "cell_type": "markdown",
      "metadata": {
        "id": "view-in-github",
        "colab_type": "text"
      },
      "source": [
        "<a href=\"https://colab.research.google.com/github/sks9699/Api/blob/master/Untitled52.ipynb\" target=\"_parent\"><img src=\"https://colab.research.google.com/assets/colab-badge.svg\" alt=\"Open In Colab\"/></a>"
      ]
    },
    {
      "cell_type": "code",
      "execution_count": null,
      "metadata": {
        "id": "hPn6dywFzFV7",
        "colab": {
          "base_uri": "https://localhost:8080/"
        },
        "outputId": "9c8fc5d3-4fea-4d6c-ce55-52c61a5b335c"
      },
      "outputs": [
        {
          "output_type": "stream",
          "name": "stdout",
          "text": [
            "mkdir: cannot create directory ‘~p’: File exists\n",
            "mkdir: cannot create directory ‘/root/.kaggle’: File exists\n"
          ]
        }
      ],
      "source": [
        "!mkdir ~p ~/.kaggle\n",
        "!cp kaggle.json ~/.kaggle/"
      ]
    },
    {
      "cell_type": "code",
      "execution_count": null,
      "metadata": {
        "colab": {
          "base_uri": "https://localhost:8080/"
        },
        "id": "wKWQwcAjzRxS",
        "outputId": "0cd00488-6604-42c5-cae6-09934e2b717d"
      },
      "outputs": [
        {
          "output_type": "stream",
          "name": "stdout",
          "text": [
            "Warning: Your Kaggle API key is readable by other users on this system! To fix this, you can run 'chmod 600 /root/.kaggle/kaggle.json'\n",
            "Downloading leaf-class.zip to /content\n",
            "100% 6.55G/6.56G [01:48<00:00, 58.5MB/s]\n",
            "100% 6.56G/6.56G [01:48<00:00, 64.8MB/s]\n"
          ]
        }
      ],
      "source": [
        "!kaggle datasets download -d sks9699/leaf-class"
      ]
    },
    {
      "cell_type": "code",
      "execution_count": null,
      "metadata": {
        "id": "Nsa50PugzTP1"
      },
      "outputs": [],
      "source": [
        "import zipfile\n",
        "zip_ref = zipfile.ZipFile('/content/leaf-class.zip','r')\n",
        "zip_ref.extractall('/content/dataset')\n",
        "zip_ref.close()"
      ]
    },
    {
      "cell_type": "code",
      "execution_count": null,
      "metadata": {
        "id": "ETb6l5pgzvIq"
      },
      "outputs": [],
      "source": [
        "# TRAIN_DIR = \"./DATABASE\"\n",
        "ORG_DIR = \"/content/dataset/dataset/train\"\n",
        "CLASS = ['Alstonia Scholaris',\n",
        "         'Arjun',\n",
        "         'Bael',\n",
        "         'Basil',\n",
        "         'Chinar',\n",
        "         'Gauva',\n",
        "         'Jamun',\n",
        "         'Jatropha',\n",
        "         'Lemon',\n",
        "         'Mango',\n",
        "         'Pomegranate',\n",
        "         'Pongamia Pinnata']"
      ]
    },
    {
      "cell_type": "code",
      "execution_count": null,
      "metadata": {
        "id": "VXiNwqv11Ji2"
      },
      "outputs": [],
      "source": [
        "import os\n",
        "from keras.applications.xception  import preprocess_input\n",
        "\n",
        "import numpy as np\n",
        "import matplotlib.pyplot as plt\n",
        "from keras.layers import Conv2D, MaxPooling2D, Flatten, Dense, Dropout\n",
        "from keras.models import Sequential\n",
        "from keras.preprocessing.image import ImageDataGenerator, load_img, img_to_array\n",
        "from keras.callbacks import ModelCheckpoint, EarlyStopping"
      ]
    },
    {
      "cell_type": "code",
      "execution_count": null,
      "metadata": {
        "colab": {
          "base_uri": "https://localhost:8080/"
        },
        "id": "DRC92e6P1gsF",
        "outputId": "6f84bc34-836e-4c2b-df5e-5e0abb44b3ae"
      },
      "outputs": [
        {
          "output_type": "stream",
          "name": "stdout",
          "text": [
            "Model: \"sequential_2\"\n",
            "_________________________________________________________________\n",
            " Layer (type)                Output Shape              Param #   \n",
            "=================================================================\n",
            " conv2d_6 (Conv2D)           (None, 254, 254, 32)      896       \n",
            "                                                                 \n",
            " max_pooling2d_6 (MaxPoolin  (None, 127, 127, 32)      0         \n",
            " g2D)                                                            \n",
            "                                                                 \n",
            " conv2d_7 (Conv2D)           (None, 125, 125, 64)      18496     \n",
            "                                                                 \n",
            " max_pooling2d_7 (MaxPoolin  (None, 62, 62, 64)        0         \n",
            " g2D)                                                            \n",
            "                                                                 \n",
            " conv2d_8 (Conv2D)           (None, 60, 60, 128)       73856     \n",
            "                                                                 \n",
            " max_pooling2d_8 (MaxPoolin  (None, 30, 30, 128)       0         \n",
            " g2D)                                                            \n",
            "                                                                 \n",
            " flatten_2 (Flatten)         (None, 115200)            0         \n",
            "                                                                 \n",
            " dense_6 (Dense)             (None, 512)               58982912  \n",
            "                                                                 \n",
            " dropout_4 (Dropout)         (None, 512)               0         \n",
            "                                                                 \n",
            " dense_7 (Dense)             (None, 256)               131328    \n",
            "                                                                 \n",
            " dropout_5 (Dropout)         (None, 256)               0         \n",
            "                                                                 \n",
            " dense_8 (Dense)             (None, 12)                3084      \n",
            "                                                                 \n",
            "=================================================================\n",
            "Total params: 59210572 (225.87 MB)\n",
            "Trainable params: 59210572 (225.87 MB)\n",
            "Non-trainable params: 0 (0.00 Byte)\n",
            "_________________________________________________________________\n"
          ]
        }
      ],
      "source": [
        "# Define your custom CNN architecture\n",
        "model = Sequential()\n",
        "model.add(Conv2D(32, kernel_size=(3, 3), activation='relu', input_shape=(256, 256, 3)))\n",
        "model.add(MaxPooling2D(pool_size=(2, 2)))\n",
        "model.add(Conv2D(64, kernel_size=(3, 3), activation='relu'))\n",
        "model.add(MaxPooling2D(pool_size=(2, 2)))\n",
        "model.add(Conv2D(128, kernel_size=(3, 3), activation='relu'))\n",
        "model.add(MaxPooling2D(pool_size=(2, 2)))\n",
        "model.add(Flatten())\n",
        "model.add(Dense(512, activation='relu'))\n",
        "model.add(Dropout(0.5))\n",
        "model.add(Dense(256, activation='relu'))\n",
        "model.add(Dropout(0.5))\n",
        "model.add(Dense(12, activation='softmax'))  # 12 classes for leaf species\n",
        "\n",
        "model.compile(optimizer='adam', loss='categorical_crossentropy', metrics=['accuracy'])\n",
        "model.summary()"
      ]
    },
    {
      "cell_type": "code",
      "execution_count": null,
      "metadata": {
        "colab": {
          "base_uri": "https://localhost:8080/"
        },
        "id": "wjMyBcZJ1s1v",
        "outputId": "6209c293-5402-4958-8905-077f8980b444"
      },
      "outputs": [
        {
          "output_type": "stream",
          "name": "stdout",
          "text": [
            "Found 3146 images belonging to 12 classes.\n",
            "Found 894 images belonging to 12 classes.\n"
          ]
        }
      ],
      "source": [
        "train_datagen = ImageDataGenerator(featurewise_center=True,\n",
        "                                   rotation_range=0.4,\n",
        "                                   width_shift_range=0.3,\n",
        "                                   horizontal_flip=True,\n",
        "                                   preprocessing_function=preprocess_input,\n",
        "                                   zoom_range=0.4,\n",
        "                                   shear_range=0.4)\n",
        "train_data = train_datagen.flow_from_directory(directory='/content/dataset/dataset/train',\n",
        "                                               target_size=(256, 256),\n",
        "                                               batch_size=36)\n",
        "\n",
        "# Load and preprocess the validation data\n",
        "val_datagen = ImageDataGenerator(featurewise_center=True,\n",
        "                                 preprocessing_function=preprocess_input\n",
        "                                 )\n",
        "val_data = val_datagen.flow_from_directory(directory='/content/dataset/dataset/val',\n",
        "                                           target_size=(256, 256),\n",
        "                                           batch_size=36)"
      ]
    },
    {
      "cell_type": "code",
      "execution_count": null,
      "metadata": {
        "colab": {
          "base_uri": "https://localhost:8080/"
        },
        "id": "fiMlCBix11jc",
        "outputId": "cf5fdf1b-d592-468e-e16b-267fb6e1f441"
      },
      "outputs": [
        {
          "output_type": "execute_result",
          "data": {
            "text/plain": [
              "{0: 'Alstonia Scholaris (P2)',\n",
              " 1: 'Arjun (P1)',\n",
              " 2: 'Bael (P4)',\n",
              " 3: 'Basil (P8)',\n",
              " 4: 'Chinar (P11)',\n",
              " 5: 'Gauva (P3)',\n",
              " 6: 'Jamun (P5)',\n",
              " 7: 'Jatropha (P6)',\n",
              " 8: 'Lemon (P10)',\n",
              " 9: 'Mango (P0)',\n",
              " 10: 'Pomegranate (P9)',\n",
              " 11: 'Pongamia Pinnata (P7)'}"
            ]
          },
          "metadata": {},
          "execution_count": 39
        }
      ],
      "source": [
        "train_data.class_indices\n",
        "\n",
        "swapped_dict = {v: k for k, v in train_data.class_indices.items()}\n",
        "swapped_dict"
      ]
    },
    {
      "cell_type": "code",
      "execution_count": null,
      "metadata": {
        "id": "yQU_nwgS13wR"
      },
      "outputs": [],
      "source": [
        "t_img,label = train_data.next()"
      ]
    },
    {
      "cell_type": "code",
      "execution_count": null,
      "metadata": {
        "colab": {
          "base_uri": "https://localhost:8080/"
        },
        "id": "Om9iG8XC15b0",
        "outputId": "3105d8e0-ca13-4408-c587-08e9279ee563"
      },
      "outputs": [
        {
          "output_type": "execute_result",
          "data": {
            "text/plain": [
              "(36, 256, 256, 3)"
            ]
          },
          "metadata": {},
          "execution_count": 41
        }
      ],
      "source": [
        "t_img.shape"
      ]
    },
    {
      "cell_type": "code",
      "execution_count": null,
      "metadata": {
        "id": "xlf0oPkC167W"
      },
      "outputs": [],
      "source": [
        "def plotImage(img_arr,label):\n",
        "  for idx,img in enumerate (img_arr):\n",
        "      if idx<=10:\n",
        "        plt.figure(figsize=(5,5))\n",
        "        plt.imshow(img)\n",
        "        plt.title(img.shape)\n",
        "        plt.axis=False\n",
        "        plt.show"
      ]
    },
    {
      "cell_type": "code",
      "execution_count": null,
      "metadata": {
        "id": "aQkrA2Oe1-3l"
      },
      "outputs": [],
      "source": [
        "# plotImage(t_img,label)"
      ]
    },
    {
      "cell_type": "code",
      "execution_count": null,
      "metadata": {
        "id": "ARKYyJki2AoO"
      },
      "outputs": [],
      "source": [
        "mc = ModelCheckpoint(filepath=\"./best_model.h5\",\n",
        "                     monitor='accuracy',\n",
        "                     verbose=1,\n",
        "                     save_best_only=True)\n",
        "es = EarlyStopping(monitor='accuracy',\n",
        "                   min_delta=0.01,\n",
        "                   patience=5,\n",
        "                   verbose=1)\n",
        "cb = [mc, es]"
      ]
    },
    {
      "cell_type": "code",
      "source": [
        "# Train the model\n",
        "his = model.fit_generator(train_data,\n",
        "                          steps_per_epoch=16,\n",
        "                          epochs=25,\n",
        "                          validation_data=val_data,\n",
        "                          validation_steps=16,\n",
        "                          callbacks=cb)"
      ],
      "metadata": {
        "colab": {
          "base_uri": "https://localhost:8080/"
        },
        "id": "fZ86PJTiARxC",
        "outputId": "337ba338-a8f8-4f4d-a67d-c6ece417de5b"
      },
      "execution_count": 15,
      "outputs": [
        {
          "metadata": {
            "tags": null
          },
          "name": "stderr",
          "output_type": "stream",
          "text": [
            "<ipython-input-15-694aac203039>:2: UserWarning: `Model.fit_generator` is deprecated and will be removed in a future version. Please use `Model.fit`, which supports generators.\n",
            "  his = model.fit_generator(train_data,\n"
          ]
        },
        {
          "metadata": {
            "tags": null
          },
          "name": "stdout",
          "output_type": "stream",
          "text": [
            "Epoch 1/100\n",
            "16/16 [==============================] - ETA: 0s - loss: 2.9713 - accuracy: 0.1493 \n",
            "Epoch 1: accuracy improved from -inf to 0.14931, saving model to ./best_model.h5\n"
          ]
        },
        {
          "metadata": {
            "tags": null
          },
          "name": "stderr",
          "output_type": "stream",
          "text": [
            "/usr/local/lib/python3.10/dist-packages/keras/src/engine/training.py:3103: UserWarning: You are saving your model as an HDF5 file via `model.save()`. This file format is considered legacy. We recommend using instead the native Keras format, e.g. `model.save('my_model.keras')`.\n",
            "  saving_api.save_model(\n"
          ]
        },
        {
          "output_type": "stream",
          "name": "stdout",
          "text": [
            "16/16 [==============================] - 327s 21s/step - loss: 2.9713 - accuracy: 0.1493 - val_loss: 2.2081 - val_accuracy: 0.2535\n",
            "Epoch 2/100\n",
            "16/16 [==============================] - ETA: 0s - loss: 2.2490 - accuracy: 0.2240 \n",
            "Epoch 2: accuracy improved from 0.14931 to 0.22396, saving model to ./best_model.h5\n",
            "16/16 [==============================] - 271s 17s/step - loss: 2.2490 - accuracy: 0.2240 - val_loss: 2.2145 - val_accuracy: 0.1979\n",
            "Epoch 3/100\n",
            "16/16 [==============================] - ETA: 0s - loss: 2.2493 - accuracy: 0.2135\n",
            "Epoch 3: accuracy did not improve from 0.22396\n",
            "16/16 [==============================] - 303s 19s/step - loss: 2.2493 - accuracy: 0.2135 - val_loss: 2.1127 - val_accuracy: 0.2917\n",
            "Epoch 4/100\n",
            "16/16 [==============================] - ETA: 0s - loss: 2.1440 - accuracy: 0.2674 \n",
            "Epoch 4: accuracy improved from 0.22396 to 0.26736, saving model to ./best_model.h5\n",
            "16/16 [==============================] - 313s 20s/step - loss: 2.1440 - accuracy: 0.2674 - val_loss: 1.9830 - val_accuracy: 0.2882\n",
            "Epoch 5/100\n",
            "16/16 [==============================] - ETA: 0s - loss: 2.1272 - accuracy: 0.2465 \n",
            "Epoch 5: accuracy did not improve from 0.26736\n",
            "16/16 [==============================] - 305s 19s/step - loss: 2.1272 - accuracy: 0.2465 - val_loss: 1.9507 - val_accuracy: 0.3125\n",
            "Epoch 6/100\n",
            "16/16 [==============================] - ETA: 0s - loss: 2.0894 - accuracy: 0.2581\n",
            "Epoch 6: accuracy did not improve from 0.26736\n",
            "16/16 [==============================] - 298s 19s/step - loss: 2.0894 - accuracy: 0.2581 - val_loss: 1.8773 - val_accuracy: 0.3299\n",
            "Epoch 7/100\n",
            "16/16 [==============================] - ETA: 0s - loss: 1.9475 - accuracy: 0.3195\n",
            "Epoch 7: accuracy improved from 0.26736 to 0.31949, saving model to ./best_model.h5\n",
            "16/16 [==============================] - 298s 19s/step - loss: 1.9475 - accuracy: 0.3195 - val_loss: 1.8876 - val_accuracy: 0.3698\n",
            "Epoch 8/100\n",
            "16/16 [==============================] - ETA: 0s - loss: 1.9481 - accuracy: 0.3556\n",
            "Epoch 8: accuracy improved from 0.31949 to 0.35560, saving model to ./best_model.h5\n",
            "16/16 [==============================] - 297s 19s/step - loss: 1.9481 - accuracy: 0.3556 - val_loss: 1.7311 - val_accuracy: 0.3698\n",
            "Epoch 9/100\n",
            "16/16 [==============================] - ETA: 0s - loss: 1.8951 - accuracy: 0.3281 \n",
            "Epoch 9: accuracy did not improve from 0.35560\n",
            "16/16 [==============================] - 305s 19s/step - loss: 1.8951 - accuracy: 0.3281 - val_loss: 1.6553 - val_accuracy: 0.4045\n",
            "Epoch 10/100\n",
            "16/16 [==============================] - ETA: 0s - loss: 1.9073 - accuracy: 0.3403\n",
            "Epoch 10: accuracy did not improve from 0.35560\n",
            "16/16 [==============================] - 305s 19s/step - loss: 1.9073 - accuracy: 0.3403 - val_loss: 1.8140 - val_accuracy: 0.3733\n",
            "Epoch 11/100\n",
            "16/16 [==============================] - ETA: 0s - loss: 1.8032 - accuracy: 0.3681\n",
            "Epoch 11: accuracy improved from 0.35560 to 0.36806, saving model to ./best_model.h5\n",
            "16/16 [==============================] - 297s 19s/step - loss: 1.8032 - accuracy: 0.3681 - val_loss: 1.6168 - val_accuracy: 0.3906\n",
            "Epoch 12/100\n",
            "16/16 [==============================] - ETA: 0s - loss: 1.8583 - accuracy: 0.3316\n",
            "Epoch 12: accuracy did not improve from 0.36806\n",
            "16/16 [==============================] - 294s 19s/step - loss: 1.8583 - accuracy: 0.3316 - val_loss: 1.5912 - val_accuracy: 0.4323\n",
            "Epoch 13/100\n",
            "16/16 [==============================] - ETA: 0s - loss: 1.7048 - accuracy: 0.3767 \n",
            "Epoch 13: accuracy improved from 0.36806 to 0.37674, saving model to ./best_model.h5\n",
            "16/16 [==============================] - 314s 20s/step - loss: 1.7048 - accuracy: 0.3767 - val_loss: 1.5161 - val_accuracy: 0.4618\n",
            "Epoch 14/100\n",
            "16/16 [==============================] - ETA: 0s - loss: 1.7383 - accuracy: 0.3819\n",
            "Epoch 14: accuracy improved from 0.37674 to 0.38194, saving model to ./best_model.h5\n",
            "16/16 [==============================] - 273s 17s/step - loss: 1.7383 - accuracy: 0.3819 - val_loss: 1.5062 - val_accuracy: 0.4688\n",
            "Epoch 15/100\n",
            "16/16 [==============================] - ETA: 0s - loss: 1.7247 - accuracy: 0.4149\n",
            "Epoch 15: accuracy improved from 0.38194 to 0.41493, saving model to ./best_model.h5\n",
            "16/16 [==============================] - 303s 19s/step - loss: 1.7247 - accuracy: 0.4149 - val_loss: 1.4714 - val_accuracy: 0.4670\n",
            "Epoch 16/100\n",
            "16/16 [==============================] - ETA: 0s - loss: 1.7083 - accuracy: 0.3899\n",
            "Epoch 16: accuracy did not improve from 0.41493\n",
            "16/16 [==============================] - 292s 18s/step - loss: 1.7083 - accuracy: 0.3899 - val_loss: 1.4270 - val_accuracy: 0.4965\n",
            "Epoch 17/100\n",
            "16/16 [==============================] - ETA: 0s - loss: 1.6075 - accuracy: 0.4253\n",
            "Epoch 17: accuracy improved from 0.41493 to 0.42535, saving model to ./best_model.h5\n",
            "16/16 [==============================] - 309s 20s/step - loss: 1.6075 - accuracy: 0.4253 - val_loss: 1.6213 - val_accuracy: 0.4184\n",
            "Epoch 18/100\n",
            "16/16 [==============================] - ETA: 0s - loss: 1.7898 - accuracy: 0.3594\n",
            "Epoch 18: accuracy did not improve from 0.42535\n",
            "16/16 [==============================] - 299s 19s/step - loss: 1.7898 - accuracy: 0.3594 - val_loss: 1.4547 - val_accuracy: 0.4722\n",
            "Epoch 19/100\n",
            "16/16 [==============================] - ETA: 0s - loss: 1.6544 - accuracy: 0.3837\n",
            "Epoch 19: accuracy did not improve from 0.42535\n",
            "16/16 [==============================] - 246s 16s/step - loss: 1.6544 - accuracy: 0.3837 - val_loss: 1.3390 - val_accuracy: 0.5087\n",
            "Epoch 20/100\n",
            "16/16 [==============================] - ETA: 0s - loss: 1.5218 - accuracy: 0.4585\n",
            "Epoch 20: accuracy improved from 0.42535 to 0.45848, saving model to ./best_model.h5\n",
            "16/16 [==============================] - 303s 19s/step - loss: 1.5218 - accuracy: 0.4585 - val_loss: 1.3569 - val_accuracy: 0.5556\n",
            "Epoch 21/100\n",
            "16/16 [==============================] - ETA: 0s - loss: 1.5633 - accuracy: 0.4444\n",
            "Epoch 21: accuracy did not improve from 0.45848\n",
            "16/16 [==============================] - 294s 19s/step - loss: 1.5633 - accuracy: 0.4444 - val_loss: 1.2631 - val_accuracy: 0.5642\n",
            "Epoch 22/100\n",
            "16/16 [==============================] - ETA: 0s - loss: 1.6136 - accuracy: 0.4271\n",
            "Epoch 22: accuracy did not improve from 0.45848\n",
            "16/16 [==============================] - 292s 19s/step - loss: 1.6136 - accuracy: 0.4271 - val_loss: 1.4115 - val_accuracy: 0.4861\n",
            "Epoch 23/100\n",
            "16/16 [==============================] - ETA: 0s - loss: 1.6193 - accuracy: 0.4115\n",
            "Epoch 23: accuracy did not improve from 0.45848\n",
            "16/16 [==============================] - 296s 19s/step - loss: 1.6193 - accuracy: 0.4115 - val_loss: 1.4159 - val_accuracy: 0.4931\n",
            "Epoch 24/100\n",
            "16/16 [==============================] - ETA: 0s - loss: 1.5404 - accuracy: 0.4410\n",
            "Epoch 24: accuracy did not improve from 0.45848\n",
            "16/16 [==============================] - 303s 19s/step - loss: 1.5404 - accuracy: 0.4410 - val_loss: 1.2065 - val_accuracy: 0.6059\n",
            "Epoch 25/100\n",
            "16/16 [==============================] - ETA: 0s - loss: 1.4923 - accuracy: 0.4603\n",
            "Epoch 25: accuracy improved from 0.45848 to 0.46029, saving model to ./best_model.h5\n",
            "16/16 [==============================] - 259s 16s/step - loss: 1.4923 - accuracy: 0.4603 - val_loss: 1.2343 - val_accuracy: 0.5764\n",
            "Epoch 25: early stopping\n"
          ]
        }
      ]
    },
    {
      "cell_type": "code",
      "execution_count": 16,
      "metadata": {
        "id": "-Wax99DV2ESr",
        "colab": {
          "base_uri": "https://localhost:8080/"
        },
        "outputId": "41bff8f6-db6f-42f0-f61a-7d2584464a99"
      },
      "outputs": [
        {
          "output_type": "execute_result",
          "data": {
            "text/plain": [
              "dict_keys(['loss', 'accuracy', 'val_loss', 'val_accuracy'])"
            ]
          },
          "metadata": {},
          "execution_count": 16
        }
      ],
      "source": [
        "h = his.history\n",
        "h.keys()"
      ]
    },
    {
      "cell_type": "code",
      "source": [
        "plt.plot(h['loss'], 'go--', label='Loss')\n",
        "plt.plot(h['accuracy'], 'go--', color='blue', label='Accuracy')\n",
        "plt.title(\"Loss and Accuracy Over Time\")\n",
        "plt.xlabel(\"Epoch\")\n",
        "plt.ylabel(\"Value\")\n",
        "plt.legend()\n",
        "plt.show()"
      ],
      "metadata": {
        "colab": {
          "base_uri": "https://localhost:8080/",
          "height": 527
        },
        "id": "uC66Kx9IXOJ1",
        "outputId": "79ec0654-9ad6-44ed-c2cb-cc37c553ee35"
      },
      "execution_count": 17,
      "outputs": [
        {
          "output_type": "stream",
          "name": "stderr",
          "text": [
            "<ipython-input-17-6e0a46cad583>:2: UserWarning: color is redundantly defined by the 'color' keyword argument and the fmt string \"go--\" (-> color='g'). The keyword argument will take precedence.\n",
            "  plt.plot(h['accuracy'], 'go--', color='blue', label='Accuracy')\n"
          ]
        },
        {
          "output_type": "display_data",
          "data": {
            "text/plain": [
              "<Figure size 640x480 with 1 Axes>"
            ],
            "image/png": "[encoded data removed]"
          },
          "metadata": {}
        }
      ]
    },
    {
      "cell_type": "code",
      "source": [
        "plt.plot(h['val_loss'], 'go--', label='val_Loss')\n",
        "plt.plot(h['val_accuracy'], 'go--', color='blue', label='val_Accuracy')\n",
        "plt.title(\" val_Loss and val_Accuracy Over Time\")\n",
        "plt.xlabel(\"Epoch\")\n",
        "plt.ylabel(\"Value\")\n",
        "plt.legend()\n",
        "plt.show()"
      ],
      "metadata": {
        "colab": {
          "base_uri": "https://localhost:8080/",
          "height": 527
        },
        "id": "JEgsOu3z5ltz",
        "outputId": "b1f8b760-05fa-40b6-9d24-a25543b3eb27"
      },
      "execution_count": 18,
      "outputs": [
        {
          "output_type": "stream",
          "name": "stderr",
          "text": [
            "<ipython-input-18-8c676993e165>:2: UserWarning: color is redundantly defined by the 'color' keyword argument and the fmt string \"go--\" (-> color='g'). The keyword argument will take precedence.\n",
            "  plt.plot(h['val_accuracy'], 'go--', color='blue', label='val_Accuracy')\n"
          ]
        },
        {
          "output_type": "display_data",
          "data": {
            "text/plain": [
              "<Figure size 640x480 with 1 Axes>"
            ],
            "image/png": "[encoded data removed]"
          },
          "metadata": {}
        }
      ]
    },
    {
      "cell_type": "code",
      "source": [
        "from keras.models import load_model\n",
        "model = load_model(\"/content/best_model.h5\")"
      ],
      "metadata": {
        "id": "npTAF_rx5nVb"
      },
      "execution_count": 19,
      "outputs": []
    },
    {
      "cell_type": "code",
      "source": [
        "path = \"/content/dataset/dataset/train/Mango (P0)/0001_0008.JPG\"\n",
        "img = load_img(path,target_size = (256,256))\n",
        "i = img_to_array(img)\n",
        "im = preprocess_input(i)\n",
        "img = np.expand_dims(im,axis=0)\n",
        "pred =np.argmax( model.predict(img))\n",
        "print(\"The Image Belong to: \",swapped_dict[pred])"
      ],
      "metadata": {
        "colab": {
          "base_uri": "https://localhost:8080/"
        },
        "id": "t4gPROEAWDvN",
        "outputId": "e0887206-27bd-4dc6-d93d-b6752cf61780"
      },
      "execution_count": 21,
      "outputs": [
        {
          "output_type": "stream",
          "name": "stdout",
          "text": [
            "1/1 [==============================] - 0s 70ms/step\n",
            "The Image Belong to:  Alstonia Scholaris (P2)\n"
          ]
        }
      ]
    },
    {
      "cell_type": "code",
      "source": [
        "path = \"/content/lemon.jpg\"\n",
        "img = load_img(path,target_size = (256,256))\n",
        "i = img_to_array(img)\n",
        "im = preprocess_input(i)\n",
        "img = np.expand_dims(im,axis=0)\n",
        "pred =np.argmax( model.predict(img))\n",
        "print(\"The Image Belong to: \",swapped_dict[pred])"
      ],
      "metadata": {
        "colab": {
          "base_uri": "https://localhost:8080/",
          "height": 349
        },
        "id": "HLwsha2k85OC",
        "outputId": "4c9c4625-8cb2-48db-a89c-719576415dd9"
      },
      "execution_count": null,
      "outputs": [
        {
          "output_type": "error",
          "ename": "FileNotFoundError",
          "evalue": "[Errno 2] No such file or directory: '/content/lemon.jpg'",
          "traceback": [
            "\u001b[0;31m---------------------------------------------------------------------------\u001b[0m",
            "\u001b[0;31mFileNotFoundError\u001b[0m                         Traceback (most recent call last)",
            "\u001b[0;32m<ipython-input-51-4cf622c1e196>\u001b[0m in \u001b[0;36m<cell line: 2>\u001b[0;34m()\u001b[0m\n\u001b[1;32m      1\u001b[0m \u001b[0mpath\u001b[0m \u001b[0;34m=\u001b[0m \u001b[0;34m\"/content/lemon.jpg\"\u001b[0m\u001b[0;34m\u001b[0m\u001b[0;34m\u001b[0m\u001b[0m\n\u001b[0;32m----> 2\u001b[0;31m \u001b[0mimg\u001b[0m \u001b[0;34m=\u001b[0m \u001b[0mload_img\u001b[0m\u001b[0;34m(\u001b[0m\u001b[0mpath\u001b[0m\u001b[0;34m,\u001b[0m\u001b[0mtarget_size\u001b[0m \u001b[0;34m=\u001b[0m \u001b[0;34m(\u001b[0m\u001b[0;36m256\u001b[0m\u001b[0;34m,\u001b[0m\u001b[0;36m256\u001b[0m\u001b[0;34m)\u001b[0m\u001b[0;34m)\u001b[0m\u001b[0;34m\u001b[0m\u001b[0;34m\u001b[0m\u001b[0m\n\u001b[0m\u001b[1;32m      3\u001b[0m \u001b[0mi\u001b[0m \u001b[0;34m=\u001b[0m \u001b[0mimg_to_array\u001b[0m\u001b[0;34m(\u001b[0m\u001b[0mimg\u001b[0m\u001b[0;34m)\u001b[0m\u001b[0;34m\u001b[0m\u001b[0;34m\u001b[0m\u001b[0m\n\u001b[1;32m      4\u001b[0m \u001b[0mim\u001b[0m \u001b[0;34m=\u001b[0m \u001b[0mpreprocess_input\u001b[0m\u001b[0;34m(\u001b[0m\u001b[0mi\u001b[0m\u001b[0;34m)\u001b[0m\u001b[0;34m\u001b[0m\u001b[0;34m\u001b[0m\u001b[0m\n\u001b[1;32m      5\u001b[0m \u001b[0mimg\u001b[0m \u001b[0;34m=\u001b[0m \u001b[0mnp\u001b[0m\u001b[0;34m.\u001b[0m\u001b[0mexpand_dims\u001b[0m\u001b[0;34m(\u001b[0m\u001b[0mim\u001b[0m\u001b[0;34m,\u001b[0m\u001b[0maxis\u001b[0m\u001b[0;34m=\u001b[0m\u001b[0;36m0\u001b[0m\u001b[0;34m)\u001b[0m\u001b[0;34m\u001b[0m\u001b[0;34m\u001b[0m\u001b[0m\n",
            "\u001b[0;32m/usr/local/lib/python3.10/dist-packages/keras/src/utils/image_utils.py\u001b[0m in \u001b[0;36mload_img\u001b[0;34m(path, grayscale, color_mode, target_size, interpolation, keep_aspect_ratio)\u001b[0m\n\u001b[1;32m    420\u001b[0m         \u001b[0;32mif\u001b[0m \u001b[0misinstance\u001b[0m\u001b[0;34m(\u001b[0m\u001b[0mpath\u001b[0m\u001b[0;34m,\u001b[0m \u001b[0mpathlib\u001b[0m\u001b[0;34m.\u001b[0m\u001b[0mPath\u001b[0m\u001b[0;34m)\u001b[0m\u001b[0;34m:\u001b[0m\u001b[0;34m\u001b[0m\u001b[0;34m\u001b[0m\u001b[0m\n\u001b[1;32m    421\u001b[0m             \u001b[0mpath\u001b[0m \u001b[0;34m=\u001b[0m \u001b[0mstr\u001b[0m\u001b[0;34m(\u001b[0m\u001b[0mpath\u001b[0m\u001b[0;34m.\u001b[0m\u001b[0mresolve\u001b[0m\u001b[0;34m(\u001b[0m\u001b[0;34m)\u001b[0m\u001b[0;34m)\u001b[0m\u001b[0;34m\u001b[0m\u001b[0;34m\u001b[0m\u001b[0m\n\u001b[0;32m--> 422\u001b[0;31m         \u001b[0;32mwith\u001b[0m \u001b[0mopen\u001b[0m\u001b[0;34m(\u001b[0m\u001b[0mpath\u001b[0m\u001b[0;34m,\u001b[0m \u001b[0;34m\"rb\"\u001b[0m\u001b[0;34m)\u001b[0m \u001b[0;32mas\u001b[0m \u001b[0mf\u001b[0m\u001b[0;34m:\u001b[0m\u001b[0;34m\u001b[0m\u001b[0;34m\u001b[0m\u001b[0m\n\u001b[0m\u001b[1;32m    423\u001b[0m             \u001b[0mimg\u001b[0m \u001b[0;34m=\u001b[0m \u001b[0mpil_image\u001b[0m\u001b[0;34m.\u001b[0m\u001b[0mopen\u001b[0m\u001b[0;34m(\u001b[0m\u001b[0mio\u001b[0m\u001b[0;34m.\u001b[0m\u001b[0mBytesIO\u001b[0m\u001b[0;34m(\u001b[0m\u001b[0mf\u001b[0m\u001b[0;34m.\u001b[0m\u001b[0mread\u001b[0m\u001b[0;34m(\u001b[0m\u001b[0;34m)\u001b[0m\u001b[0;34m)\u001b[0m\u001b[0;34m)\u001b[0m\u001b[0;34m\u001b[0m\u001b[0;34m\u001b[0m\u001b[0m\n\u001b[1;32m    424\u001b[0m     \u001b[0;32melse\u001b[0m\u001b[0;34m:\u001b[0m\u001b[0;34m\u001b[0m\u001b[0;34m\u001b[0m\u001b[0m\n",
            "\u001b[0;31mFileNotFoundError\u001b[0m: [Errno 2] No such file or directory: '/content/lemon.jpg'"
          ]
        }
      ]
    },
    {
      "cell_type": "code",
      "source": [],
      "metadata": {
        "id": "vSizvfqt9A4-"
      },
      "execution_count": null,
      "outputs": []
    }
  ],
  "metadata": {
    "accelerator": "GPU",
    "colab": {
      "gpuType": "T4",
      "provenance": [],
      "include_colab_link": true
    },
    "kernelspec": {
      "display_name": "Python 3",
      "name": "python3"
    },
    "language_info": {
      "name": "python"
    }
  },
  "nbformat": 4,
  "nbformat_minor": 0
}