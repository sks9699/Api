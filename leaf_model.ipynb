{
  "metadata": {
    "kernelspec": {
      "language": "python",
      "display_name": "Python 3",
      "name": "python3"
    },
    "language_info": {
      "name": "python",
      "version": "3.10.13",
      "mimetype": "text/x-python",
      "codemirror_mode": {
        "name": "ipython",
        "version": 3
      },
      "pygments_lexer": "ipython3",
      "nbconvert_exporter": "python",
      "file_extension": ".py"
    },
    "kaggle": {
      "accelerator": "nvidiaTeslaT4",
      "dataSources": [
        {
          "sourceId": 7615610,
          "sourceType": "datasetVersion",
          "datasetId": 4435125
        }
      ],
      "dockerImageVersionId": 30648,
      "isInternetEnabled": true,
      "language": "python",
      "sourceType": "notebook",
      "isGpuEnabled": true
    },
    "colab": {
      "provenance": [],
      "include_colab_link": true
    }
  },
  "nbformat_minor": 0,
  "nbformat": 4,
  "cells": [
    {
      "cell_type": "markdown",
      "metadata": {
        "id": "view-in-github",
        "colab_type": "text"
      },
      "source": [
        "<a href=\"https://colab.research.google.com/github/sks9699/Api/blob/master/leaf_model.ipynb\" target=\"_parent\"><img src=\"https://colab.research.google.com/assets/colab-badge.svg\" alt=\"Open In Colab\"/></a>"
      ]
    },
    {
      "cell_type": "code",
      "source": [
        "!mkdir ~p ~/.kaggle\n",
        "!cp kaggle.json ~/.kaggle/"
      ],
      "metadata": {
        "execution": {
          "iopub.status.busy": "2024-02-21T06:35:29.663501Z",
          "iopub.execute_input": "2024-02-21T06:35:29.663777Z",
          "iopub.status.idle": "2024-02-21T06:35:48.444694Z",
          "shell.execute_reply.started": "2024-02-21T06:35:29.663751Z",
          "shell.execute_reply": "2024-02-21T06:35:48.443885Z"
        },
        "trusted": true,
        "id": "9HhwV5_171uF"
      },
      "execution_count": 2,
      "outputs": []
    },
    {
      "cell_type": "code",
      "source": [
        "!kaggle datasets download -d sks9699/species-of-leaf"
      ],
      "metadata": {
        "colab": {
          "base_uri": "https://localhost:8080/"
        },
        "id": "1BbLjQAa9D2a",
        "outputId": "9f3aa730-ba09-47e9-d6bb-23a4f20726fd"
      },
      "execution_count": 3,
      "outputs": [
        {
          "output_type": "stream",
          "name": "stdout",
          "text": [
            "Warning: Your Kaggle API key is readable by other users on this system! To fix this, you can run 'chmod 600 /root/.kaggle/kaggle.json'\n",
            "Downloading species-of-leaf.zip to /content\n",
            "100% 6.56G/6.56G [01:14<00:00, 175MB/s]\n",
            "100% 6.56G/6.56G [01:14<00:00, 94.3MB/s]\n"
          ]
        }
      ]
    },
    {
      "cell_type": "code",
      "source": [
        "import zipfile\n",
        "zip_ref = zipfile.ZipFile('/content/species-of-leaf.zip','r')\n",
        "zip_ref.extractall('/content/')\n",
        "zip_ref.close()"
      ],
      "metadata": {
        "id": "DMQE8MYk9EAQ"
      },
      "execution_count": 11,
      "outputs": []
    },
    {
      "cell_type": "code",
      "source": [
        "from keras.layers import Input, Lambda, Dense, Flatten\n",
        "from keras.models import Model\n",
        "from keras.applications.vgg16 import VGG16\n",
        "from keras.applications.vgg16 import preprocess_input\n",
        "from keras.preprocessing import image\n",
        "from keras.preprocessing.image import ImageDataGenerator\n",
        "from keras.models import Sequential\n",
        "import numpy as np\n",
        "from glob import glob\n",
        "import matplotlib.pyplot as plt"
      ],
      "metadata": {
        "id": "7_n3Lt2r9EBw"
      },
      "execution_count": 4,
      "outputs": []
    },
    {
      "cell_type": "code",
      "source": [
        "pip install split-folders"
      ],
      "metadata": {
        "execution": {
          "iopub.status.busy": "2024-02-21T06:36:21.269187Z",
          "iopub.execute_input": "2024-02-21T06:36:21.269876Z",
          "iopub.status.idle": "2024-02-21T06:36:35.523586Z",
          "shell.execute_reply.started": "2024-02-21T06:36:21.269833Z",
          "shell.execute_reply": "2024-02-21T06:36:35.522453Z"
        },
        "trusted": true,
        "colab": {
          "base_uri": "https://localhost:8080/"
        },
        "id": "0AGwhNvn71uI",
        "outputId": "e3a8b88d-cec8-43e4-9c42-713af4d8cb4a"
      },
      "execution_count": 14,
      "outputs": [
        {
          "output_type": "stream",
          "name": "stdout",
          "text": [
            "Requirement already satisfied: split-folders in /usr/local/lib/python3.10/dist-packages (0.5.1)\n"
          ]
        }
      ]
    },
    {
      "cell_type": "code",
      "source": [
        "import splitfolders\n",
        "IMAGE_SIZE = [224, 224]"
      ],
      "metadata": {
        "execution": {
          "iopub.status.busy": "2024-02-21T06:38:10.860039Z",
          "iopub.execute_input": "2024-02-21T06:38:10.860482Z",
          "iopub.status.idle": "2024-02-21T06:38:10.875905Z",
          "shell.execute_reply.started": "2024-02-21T06:38:10.860447Z",
          "shell.execute_reply": "2024-02-21T06:38:10.875034Z"
        },
        "trusted": true,
        "id": "9ULJd8wY71uI"
      },
      "execution_count": 15,
      "outputs": []
    },
    {
      "cell_type": "code",
      "source": [
        "import splitfolders"
      ],
      "metadata": {
        "execution": {
          "iopub.status.busy": "2024-02-21T06:38:20.412099Z",
          "iopub.execute_input": "2024-02-21T06:38:20.412796Z",
          "iopub.status.idle": "2024-02-21T06:38:20.416872Z",
          "shell.execute_reply.started": "2024-02-21T06:38:20.412765Z",
          "shell.execute_reply": "2024-02-21T06:38:20.416015Z"
        },
        "trusted": true,
        "id": "T51Yy-0z71uI"
      },
      "execution_count": 16,
      "outputs": []
    },
    {
      "cell_type": "code",
      "source": [
        "splitfolders.ratio(\"/content/leaf\",\n",
        "                   output=\"./output\",\n",
        "                   seed=42,\n",
        "                   ratio=(.7, .2, .1),\n",
        "                   group_prefix=None,\n",
        "                   move=False\n",
        "                  )"
      ],
      "metadata": {
        "execution": {
          "iopub.status.busy": "2024-02-21T06:45:52.244742Z",
          "iopub.execute_input": "2024-02-21T06:45:52.245121Z",
          "iopub.status.idle": "2024-02-21T06:48:07.757177Z",
          "shell.execute_reply.started": "2024-02-21T06:45:52.245093Z",
          "shell.execute_reply": "2024-02-21T06:48:07.756283Z"
        },
        "trusted": true,
        "colab": {
          "base_uri": "https://localhost:8080/"
        },
        "id": "hIpexa-p71uJ",
        "outputId": "37c486d7-ef89-4cac-e896-4925f859edf3"
      },
      "execution_count": 17,
      "outputs": [
        {
          "output_type": "stream",
          "name": "stderr",
          "text": [
            "Copying files: 4502 files [00:58, 76.53 files/s]\n"
          ]
        }
      ]
    },
    {
      "cell_type": "code",
      "source": [
        "train_directory ='/content/output/train'\n",
        "test_directory ='/content/output/test'\n",
        "val_directory ='/content/output/val'"
      ],
      "metadata": {
        "execution": {
          "iopub.status.busy": "2024-02-21T06:52:18.303276Z",
          "iopub.execute_input": "2024-02-21T06:52:18.303619Z",
          "iopub.status.idle": "2024-02-21T06:52:18.308041Z",
          "shell.execute_reply.started": "2024-02-21T06:52:18.303594Z",
          "shell.execute_reply": "2024-02-21T06:52:18.307044Z"
        },
        "trusted": true,
        "id": "KPIUCh7P71uJ"
      },
      "execution_count": 18,
      "outputs": []
    },
    {
      "cell_type": "code",
      "source": [
        "# import shutil\n",
        "\n",
        "# # Specify the directory you want to delete\n",
        "# directory_to_delete = \"/content/dataset\"\n",
        "\n",
        "# # Use shutil.rmtree() to recursively remove the directory and its contents\n",
        "# shutil.rmtree(directory_to_delete)\n",
        "\n",
        "# print(\"Directory deleted successfully.\")\n"
      ],
      "metadata": {
        "execution": {
          "iopub.status.busy": "2024-02-21T06:51:08.096254Z",
          "iopub.execute_input": "2024-02-21T06:51:08.096607Z",
          "iopub.status.idle": "2024-02-21T06:51:08.102140Z",
          "shell.execute_reply.started": "2024-02-21T06:51:08.096581Z",
          "shell.execute_reply": "2024-02-21T06:51:08.101281Z"
        },
        "trusted": true,
        "colab": {
          "base_uri": "https://localhost:8080/"
        },
        "id": "VcCnz2W171uJ",
        "outputId": "57006dfb-88ad-4f6a-ed12-d34f33d40187"
      },
      "execution_count": 12,
      "outputs": [
        {
          "output_type": "stream",
          "name": "stdout",
          "text": [
            "Directory deleted successfully.\n"
          ]
        }
      ]
    },
    {
      "cell_type": "code",
      "source": [
        "vgg = VGG16(input_shape=IMAGE_SIZE + [3], weights ='imagenet',include_top = False)\n",
        "for layer in vgg.layers:\n",
        "    layer.trainable = False"
      ],
      "metadata": {
        "execution": {
          "iopub.status.busy": "2024-02-21T06:52:32.679387Z",
          "iopub.execute_input": "2024-02-21T06:52:32.680234Z",
          "iopub.status.idle": "2024-02-21T06:52:34.615092Z",
          "shell.execute_reply.started": "2024-02-21T06:52:32.680200Z",
          "shell.execute_reply": "2024-02-21T06:52:34.613946Z"
        },
        "trusted": true,
        "colab": {
          "base_uri": "https://localhost:8080/"
        },
        "id": "im3ji6Ja71uK",
        "outputId": "9628e228-74b5-468c-c239-223ffb0bb3f0"
      },
      "execution_count": 19,
      "outputs": [
        {
          "output_type": "stream",
          "name": "stdout",
          "text": [
            "Downloading data from https://storage.googleapis.com/tensorflow/keras-applications/vgg16/vgg16_weights_tf_dim_ordering_tf_kernels_notop.h5\n",
            "58889256/58889256 [==============================] - 0s 0us/step\n"
          ]
        }
      ]
    },
    {
      "cell_type": "code",
      "source": [
        "folders = glob('/content/output/train')\n",
        "len(folders)"
      ],
      "metadata": {
        "execution": {
          "iopub.status.busy": "2024-02-21T06:53:10.319340Z",
          "iopub.execute_input": "2024-02-21T06:53:10.320210Z",
          "iopub.status.idle": "2024-02-21T06:53:10.326773Z",
          "shell.execute_reply.started": "2024-02-21T06:53:10.320181Z",
          "shell.execute_reply": "2024-02-21T06:53:10.325899Z"
        },
        "trusted": true,
        "colab": {
          "base_uri": "https://localhost:8080/"
        },
        "id": "T0Rl6QCq71uK",
        "outputId": "9b39ab2b-a666-42fc-e3a1-491caef3e595"
      },
      "execution_count": 22,
      "outputs": [
        {
          "output_type": "execute_result",
          "data": {
            "text/plain": [
              "1"
            ]
          },
          "metadata": {},
          "execution_count": 22
        }
      ]
    },
    {
      "cell_type": "code",
      "source": [
        "x = Flatten()(vgg.output)\n",
        "prediction = Dense(12, activation='softmax')(x)"
      ],
      "metadata": {
        "execution": {
          "iopub.status.busy": "2024-02-21T06:53:29.861108Z",
          "iopub.execute_input": "2024-02-21T06:53:29.861799Z",
          "iopub.status.idle": "2024-02-21T06:53:29.893712Z",
          "shell.execute_reply.started": "2024-02-21T06:53:29.861767Z",
          "shell.execute_reply": "2024-02-21T06:53:29.892807Z"
        },
        "trusted": true,
        "id": "cVIbH3Ey71uL"
      },
      "execution_count": 29,
      "outputs": []
    },
    {
      "cell_type": "code",
      "source": [
        "model = Model(inputs=vgg.input, outputs=prediction)\n",
        "model.summary()"
      ],
      "metadata": {
        "execution": {
          "iopub.status.busy": "2024-02-21T06:53:35.566746Z",
          "iopub.execute_input": "2024-02-21T06:53:35.567116Z",
          "iopub.status.idle": "2024-02-21T06:53:35.619460Z",
          "shell.execute_reply.started": "2024-02-21T06:53:35.567086Z",
          "shell.execute_reply": "2024-02-21T06:53:35.618588Z"
        },
        "trusted": true,
        "colab": {
          "base_uri": "https://localhost:8080/"
        },
        "id": "UrfQnpQ371uL",
        "outputId": "c47a8e41-9c51-43e7-ba8c-e38cd7cd3368"
      },
      "execution_count": 30,
      "outputs": [
        {
          "output_type": "stream",
          "name": "stdout",
          "text": [
            "Model: \"model_1\"\n",
            "_________________________________________________________________\n",
            " Layer (type)                Output Shape              Param #   \n",
            "=================================================================\n",
            " input_1 (InputLayer)        [(None, 224, 224, 3)]     0         \n",
            "                                                                 \n",
            " block1_conv1 (Conv2D)       (None, 224, 224, 64)      1792      \n",
            "                                                                 \n",
            " block1_conv2 (Conv2D)       (None, 224, 224, 64)      36928     \n",
            "                                                                 \n",
            " block1_pool (MaxPooling2D)  (None, 112, 112, 64)      0         \n",
            "                                                                 \n",
            " block2_conv1 (Conv2D)       (None, 112, 112, 128)     73856     \n",
            "                                                                 \n",
            " block2_conv2 (Conv2D)       (None, 112, 112, 128)     147584    \n",
            "                                                                 \n",
            " block2_pool (MaxPooling2D)  (None, 56, 56, 128)       0         \n",
            "                                                                 \n",
            " block3_conv1 (Conv2D)       (None, 56, 56, 256)       295168    \n",
            "                                                                 \n",
            " block3_conv2 (Conv2D)       (None, 56, 56, 256)       590080    \n",
            "                                                                 \n",
            " block3_conv3 (Conv2D)       (None, 56, 56, 256)       590080    \n",
            "                                                                 \n",
            " block3_pool (MaxPooling2D)  (None, 28, 28, 256)       0         \n",
            "                                                                 \n",
            " block4_conv1 (Conv2D)       (None, 28, 28, 512)       1180160   \n",
            "                                                                 \n",
            " block4_conv2 (Conv2D)       (None, 28, 28, 512)       2359808   \n",
            "                                                                 \n",
            " block4_conv3 (Conv2D)       (None, 28, 28, 512)       2359808   \n",
            "                                                                 \n",
            " block4_pool (MaxPooling2D)  (None, 14, 14, 512)       0         \n",
            "                                                                 \n",
            " block5_conv1 (Conv2D)       (None, 14, 14, 512)       2359808   \n",
            "                                                                 \n",
            " block5_conv2 (Conv2D)       (None, 14, 14, 512)       2359808   \n",
            "                                                                 \n",
            " block5_conv3 (Conv2D)       (None, 14, 14, 512)       2359808   \n",
            "                                                                 \n",
            " block5_pool (MaxPooling2D)  (None, 7, 7, 512)         0         \n",
            "                                                                 \n",
            " flatten_2 (Flatten)         (None, 25088)             0         \n",
            "                                                                 \n",
            " dense_2 (Dense)             (None, 12)                301068    \n",
            "                                                                 \n",
            "=================================================================\n",
            "Total params: 15015756 (57.28 MB)\n",
            "Trainable params: 301068 (1.15 MB)\n",
            "Non-trainable params: 14714688 (56.13 MB)\n",
            "_________________________________________________________________\n"
          ]
        }
      ]
    },
    {
      "cell_type": "code",
      "source": [
        "model.compile(\n",
        "    loss='categorical_crossentropy',\n",
        "    optimizer='adam',\n",
        "    metrics=['accuracy']  # Change 'metrices' to 'metrics'\n",
        ")\n"
      ],
      "metadata": {
        "execution": {
          "iopub.status.busy": "2024-02-21T06:54:09.861804Z",
          "iopub.execute_input": "2024-02-21T06:54:09.862223Z",
          "iopub.status.idle": "2024-02-21T06:54:09.880840Z",
          "shell.execute_reply.started": "2024-02-21T06:54:09.862194Z",
          "shell.execute_reply": "2024-02-21T06:54:09.880137Z"
        },
        "trusted": true,
        "id": "ikT4fa3J71uM"
      },
      "execution_count": 31,
      "outputs": []
    },
    {
      "cell_type": "code",
      "source": [
        "from keras.preprocessing.image import ImageDataGenerator\n",
        "train_datagen = ImageDataGenerator(rescale = 1./255,\n",
        "                                  shear_range =0.2,\n",
        "                                  zoom_range =0.2,\n",
        "                                  horizontal_flip = True)\n",
        "test_datagen = ImageDataGenerator(rescale = 1./255)\n",
        "training_set = train_datagen.flow_from_directory(train_directory,\n",
        "                                                 target_size =(224,224),\n",
        "                                                 batch_size = 32,\n",
        "                                                 class_mode ='categorical'\n",
        "                                                )\n",
        "\n",
        "test_set = test_datagen.flow_from_directory(test_directory,\n",
        "                                                 target_size =(224,224),\n",
        "                                                 batch_size = 32,\n",
        "                                                 class_mode ='categorical'\n",
        "                                                )"
      ],
      "metadata": {
        "execution": {
          "iopub.status.busy": "2024-02-21T06:54:17.502576Z",
          "iopub.execute_input": "2024-02-21T06:54:17.502942Z",
          "iopub.status.idle": "2024-02-21T06:54:17.646844Z",
          "shell.execute_reply.started": "2024-02-21T06:54:17.502911Z",
          "shell.execute_reply": "2024-02-21T06:54:17.646140Z"
        },
        "trusted": true,
        "colab": {
          "base_uri": "https://localhost:8080/"
        },
        "id": "5v96m8L771uM",
        "outputId": "2bdb04e6-6545-4266-a966-837b749e97c8"
      },
      "execution_count": 32,
      "outputs": [
        {
          "output_type": "stream",
          "name": "stdout",
          "text": [
            "Found 3146 images belonging to 12 classes.\n",
            "Found 462 images belonging to 12 classes.\n"
          ]
        }
      ]
    },
    {
      "cell_type": "code",
      "source": [
        "print(len(training_set))\n",
        "print(len(test_set))"
      ],
      "metadata": {
        "execution": {
          "iopub.status.busy": "2024-02-21T06:54:23.106922Z",
          "iopub.execute_input": "2024-02-21T06:54:23.107289Z",
          "iopub.status.idle": "2024-02-21T06:54:23.112263Z",
          "shell.execute_reply.started": "2024-02-21T06:54:23.107263Z",
          "shell.execute_reply": "2024-02-21T06:54:23.111209Z"
        },
        "trusted": true,
        "colab": {
          "base_uri": "https://localhost:8080/"
        },
        "id": "dlQi_eRQ71uN",
        "outputId": "32f6efe6-ebb3-4727-8670-cefaffa4e419"
      },
      "execution_count": 33,
      "outputs": [
        {
          "output_type": "stream",
          "name": "stdout",
          "text": [
            "99\n",
            "15\n"
          ]
        }
      ]
    },
    {
      "cell_type": "code",
      "source": [
        "r = model.fit_generator(\n",
        "    training_set,\n",
        "#     steps_per_epochs=16,\n",
        "    validation_data=test_set,\n",
        "    epochs =5,\n",
        "    # steps_per_epoch=16,\n",
        "    # validation_steps=len(test_set)\n",
        ")"
      ],
      "metadata": {
        "execution": {
          "iopub.status.busy": "2024-02-21T07:09:21.878669Z",
          "iopub.execute_input": "2024-02-21T07:09:21.879450Z",
          "iopub.status.idle": "2024-02-21T07:09:31.698839Z",
          "shell.execute_reply.started": "2024-02-21T07:09:21.879412Z",
          "shell.execute_reply": "2024-02-21T07:09:31.697014Z"
        },
        "trusted": true,
        "colab": {
          "base_uri": "https://localhost:8080/"
        },
        "id": "ZrfQq0KG71uN",
        "outputId": "e2c11d49-d380-4c7b-dc9e-8127534016c5"
      },
      "execution_count": 34,
      "outputs": [
        {
          "metadata": {
            "tags": null
          },
          "name": "stderr",
          "output_type": "stream",
          "text": [
            "<ipython-input-34-102af20b1223>:1: UserWarning: `Model.fit_generator` is deprecated and will be removed in a future version. Please use `Model.fit`, which supports generators.\n",
            "  r = model.fit_generator(\n"
          ]
        },
        {
          "metadata": {
            "tags": null
          },
          "name": "stdout",
          "output_type": "stream",
          "text": [
            "Epoch 1/5\n",
            "99/99 [==============================] - 1567s 16s/step - loss: 1.1224 - accuracy: 0.6618 - val_loss: 0.5240 - val_accuracy: 0.8420\n",
            "Epoch 2/5\n",
            "99/99 [==============================] - 1624s 16s/step - loss: 0.4643 - accuracy: 0.8516 - val_loss: 0.4007 - val_accuracy: 0.8874\n",
            "Epoch 3/5\n",
            "99/99 [==============================] - 1559s 16s/step - loss: 0.3461 - accuracy: 0.8926 - val_loss: 0.2939 - val_accuracy: 0.9113\n",
            "Epoch 4/5\n",
            "99/99 [==============================] - 1566s 16s/step - loss: 0.2404 - accuracy: 0.9285 - val_loss: 0.2558 - val_accuracy: 0.9199\n",
            "Epoch 5/5\n",
            "99/99 [==============================] - 1568s 16s/step - loss: 0.2143 - accuracy: 0.9313 - val_loss: 0.2982 - val_accuracy: 0.8961\n"
          ]
        }
      ]
    },
    {
      "cell_type": "code",
      "source": [
        "plt.plot(r.history['loss'], label='train loss')\n",
        "plt.plot(r.history['val_loss'], label='val loss')\n",
        "plt.legend()\n",
        "plt.show()"
      ],
      "metadata": {
        "colab": {
          "base_uri": "https://localhost:8080/",
          "height": 430
        },
        "id": "jMfoZH1t71uN",
        "outputId": "858d0a32-bfbb-4129-8919-a292b366d06d"
      },
      "execution_count": 40,
      "outputs": [
        {
          "output_type": "display_data",
          "data": {
            "text/plain": [
              "<Figure size 640x480 with 1 Axes>"
            ],
            "image/png": "[encoded data removed]"
          },
          "metadata": {}
        }
      ]
    },
    {
      "cell_type": "code",
      "source": [
        "import numpy as np\n",
        "\n",
        "max_accuracy_index = np.argmax(r.history['accuracy'])\n",
        "max_accuracy_value = r.history['accuracy'][max_accuracy_index]\n",
        "print(\"Maximum training accuracy:\", max_accuracy_value*100)\n"
      ],
      "metadata": {
        "id": "KpO5Sn5DnVzZ",
        "outputId": "a647cc4a-5999-4083-e662-efc8c490d933",
        "colab": {
          "base_uri": "https://localhost:8080/"
        }
      },
      "execution_count": 57,
      "outputs": [
        {
          "output_type": "stream",
          "name": "stdout",
          "text": [
            "Maximum training accuracy: 93.13414096832275\n"
          ]
        }
      ]
    },
    {
      "cell_type": "code",
      "source": [
        "# Save the model\n",
        "model.save('my_model.h5')\n"
      ],
      "metadata": {
        "colab": {
          "base_uri": "https://localhost:8080/"
        },
        "id": "NNG6oVhbdEY7",
        "outputId": "f0bef286-9fdf-41ca-f878-a66af42bd48c"
      },
      "execution_count": 36,
      "outputs": [
        {
          "output_type": "stream",
          "name": "stderr",
          "text": [
            "/usr/local/lib/python3.10/dist-packages/keras/src/engine/training.py:3103: UserWarning: You are saving your model as an HDF5 file via `model.save()`. This file format is considered legacy. We recommend using instead the native Keras format, e.g. `model.save('my_model.keras')`.\n",
            "  saving_api.save_model(\n"
          ]
        }
      ]
    },
    {
      "cell_type": "code",
      "source": [
        "# Define the list of class names\n",
        "CLASS = ['Alstonia Scholaris', 'Arjun', 'Bael', 'Basil', 'Chinar', 'Gauva', 'Jamun', 'Jatropha', 'Lemon', 'Mango', 'Pomegranate', 'Pongamia Pinnata']\n",
        "\n",
        "# Create a dictionary mapping class indices to class names\n",
        "class_names = {i: CLASS[i] for i in range(len(CLASS))}\n"
      ],
      "metadata": {
        "id": "nFPgf3Wdmg9r"
      },
      "execution_count": 42,
      "outputs": []
    },
    {
      "cell_type": "code",
      "source": [
        "# Assuming you have an image you want to make predictions on\n",
        "# Here, `image_path` is the path to the image you want to predict\n",
        "# You can load the image using keras.preprocessing.image module\n",
        "from keras.preprocessing import image\n",
        "import numpy as np\n",
        "\n",
        "# Load the image\n",
        "img = image.load_img(\"/content/output/test/Lemon (P10)/0010_0060.JPG\", target_size=(224, 224))\n",
        "\n",
        "# Preprocess the image\n",
        "img_array = image.img_to_array(img)\n",
        "img_array = np.expand_dims(img_array, axis=0)  # Add batch dimension\n",
        "img_array = img_array / 255.  # Normalize the image data\n",
        "\n",
        "# Make prediction\n",
        "prediction = model.predict(img_array)\n",
        "\n",
        "# Get the predicted class label\n",
        "predicted_class = np.argmax(prediction)\n",
        "\n",
        "# Print the predicted class\n",
        "predicted_class_name = class_names[predicted_class]\n",
        "print(\"Predicted class name:\", predicted_class_name)\n",
        "\n"
      ],
      "metadata": {
        "colab": {
          "base_uri": "https://localhost:8080/"
        },
        "id": "6YJvlIVhhjBW",
        "outputId": "f7111afb-15ba-414a-ae78-bd9e61091e45"
      },
      "execution_count": 45,
      "outputs": [
        {
          "output_type": "stream",
          "name": "stdout",
          "text": [
            "1/1 [==============================] - 0s 360ms/step\n",
            "Predicted class name: Lemon\n"
          ]
        }
      ]
    },
    {
      "cell_type": "code",
      "source": [],
      "metadata": {
        "id": "pVEvIDmSlmt-"
      },
      "execution_count": null,
      "outputs": []
    }
  ]
}