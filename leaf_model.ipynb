{
  "metadata": {
    "kernelspec": {
      "language": "python",
      "display_name": "Python 3",
      "name": "python3"
    },
    "language_info": {
      "name": "python",
      "version": "3.10.13",
      "mimetype": "text/x-python",
      "codemirror_mode": {
        "name": "ipython",
        "version": 3
      },
      "pygments_lexer": "ipython3",
      "nbconvert_exporter": "python",
      "file_extension": ".py"
    },
    "kaggle": {
      "accelerator": "nvidiaTeslaT4",
      "dataSources": [
        {
          "sourceId": 7615610,
          "sourceType": "datasetVersion",
          "datasetId": 4435125
        }
      ],
      "dockerImageVersionId": 30648,
      "isInternetEnabled": true,
      "language": "python",
      "sourceType": "notebook",
      "isGpuEnabled": true
    },
    "colab": {
      "provenance": [],
      "include_colab_link": true
    }
  },
  "nbformat_minor": 0,
  "nbformat": 4,
  "cells": [
    {
      "cell_type": "markdown",
      "metadata": {
        "id": "view-in-github",
        "colab_type": "text"
      },
      "source": [
        "<a href=\"https://colab.research.google.com/github/sks9699/Api/blob/master/leaf_model.ipynb\" target=\"_parent\"><img src=\"https://colab.research.google.com/assets/colab-badge.svg\" alt=\"Open In Colab\"/></a>"
      ]
    },
    {
      "cell_type": "code",
      "source": [
        "from keras.layers import Input, Lambda, Dense, Flatten\n",
        "from keras.models import Model\n",
        "from keras.applications.vgg16 import VGG16\n",
        "from keras.applications.vgg16 import preprocess_input\n",
        "from keras.preprocessing import image\n",
        "from keras.preprocessing.image import ImageDataGenerator\n",
        "from keras.models import Sequential\n",
        "import numpy as np # linear algebra\n",
        "import pandas as pd # data processing, CSV file I/O (e.g. pd.read_csv)\n",
        "from glob import glob\n",
        "import matplotlib.pyplot as plt\n"
      ],
      "metadata": {
        "execution": {
          "iopub.status.busy": "2024-02-21T06:35:29.663501Z",
          "iopub.execute_input": "2024-02-21T06:35:29.663777Z",
          "iopub.status.idle": "2024-02-21T06:35:48.444694Z",
          "shell.execute_reply.started": "2024-02-21T06:35:29.663751Z",
          "shell.execute_reply": "2024-02-21T06:35:48.443885Z"
        },
        "trusted": true,
        "id": "9HhwV5_171uF",
        "outputId": "e78aedb7-cce6-4851-ac8b-de2680cd7873"
      },
      "execution_count": null,
      "outputs": [
        {
          "name": "stderr",
          "text": "2024-02-21 06:35:32.898141: E external/local_xla/xla/stream_executor/cuda/cuda_dnn.cc:9261] Unable to register cuDNN factory: Attempting to register factory for plugin cuDNN when one has already been registered\n2024-02-21 06:35:32.898241: E external/local_xla/xla/stream_executor/cuda/cuda_fft.cc:607] Unable to register cuFFT factory: Attempting to register factory for plugin cuFFT when one has already been registered\n2024-02-21 06:35:33.159017: E external/local_xla/xla/stream_executor/cuda/cuda_blas.cc:1515] Unable to register cuBLAS factory: Attempting to register factory for plugin cuBLAS when one has already been registered\n",
          "output_type": "stream"
        }
      ]
    },
    {
      "cell_type": "code",
      "source": [
        "pip install split-folders"
      ],
      "metadata": {
        "execution": {
          "iopub.status.busy": "2024-02-21T06:36:21.269187Z",
          "iopub.execute_input": "2024-02-21T06:36:21.269876Z",
          "iopub.status.idle": "2024-02-21T06:36:35.523586Z",
          "shell.execute_reply.started": "2024-02-21T06:36:21.269833Z",
          "shell.execute_reply": "2024-02-21T06:36:35.522453Z"
        },
        "trusted": true,
        "id": "0AGwhNvn71uI",
        "outputId": "09acc613-d60b-43f1-eb81-f766a3a48ccb"
      },
      "execution_count": null,
      "outputs": [
        {
          "name": "stdout",
          "text": "Collecting split-folders\n  Downloading split_folders-0.5.1-py3-none-any.whl (8.4 kB)\nInstalling collected packages: split-folders\nSuccessfully installed split-folders-0.5.1\nNote: you may need to restart the kernel to use updated packages.\n",
          "output_type": "stream"
        }
      ]
    },
    {
      "cell_type": "code",
      "source": [
        "import splitfolders\n",
        "IMAGE_SIZE = [224, 224]"
      ],
      "metadata": {
        "execution": {
          "iopub.status.busy": "2024-02-21T06:38:10.860039Z",
          "iopub.execute_input": "2024-02-21T06:38:10.860482Z",
          "iopub.status.idle": "2024-02-21T06:38:10.875905Z",
          "shell.execute_reply.started": "2024-02-21T06:38:10.860447Z",
          "shell.execute_reply": "2024-02-21T06:38:10.875034Z"
        },
        "trusted": true,
        "id": "9ULJd8wY71uI"
      },
      "execution_count": null,
      "outputs": []
    },
    {
      "cell_type": "code",
      "source": [
        "import splitfolders"
      ],
      "metadata": {
        "execution": {
          "iopub.status.busy": "2024-02-21T06:38:20.412099Z",
          "iopub.execute_input": "2024-02-21T06:38:20.412796Z",
          "iopub.status.idle": "2024-02-21T06:38:20.416872Z",
          "shell.execute_reply.started": "2024-02-21T06:38:20.412765Z",
          "shell.execute_reply": "2024-02-21T06:38:20.416015Z"
        },
        "trusted": true,
        "id": "T51Yy-0z71uI"
      },
      "execution_count": null,
      "outputs": []
    },
    {
      "cell_type": "code",
      "source": [
        "# splitfolders.ratio(\"/kaggle/input/species-of-leaf/leaf\",\n",
        "#                    output=\"./output\",\n",
        "#                    seed=42,\n",
        "#                    ratio=(.7, .2, .1),\n",
        "#                    group_prefix=None,\n",
        "#                    move=False\n",
        "#                   )"
      ],
      "metadata": {
        "execution": {
          "iopub.status.busy": "2024-02-21T06:45:52.244742Z",
          "iopub.execute_input": "2024-02-21T06:45:52.245121Z",
          "iopub.status.idle": "2024-02-21T06:48:07.757177Z",
          "shell.execute_reply.started": "2024-02-21T06:45:52.245093Z",
          "shell.execute_reply": "2024-02-21T06:48:07.756283Z"
        },
        "trusted": true,
        "id": "hIpexa-p71uJ"
      },
      "execution_count": 1,
      "outputs": []
    },
    {
      "cell_type": "code",
      "source": [
        "train_directory ='/kaggle/working/output/train'\n",
        "test_directory ='/kaggle/working/output/test'\n",
        "val_directory ='/kaggle/working/output/val'"
      ],
      "metadata": {
        "execution": {
          "iopub.status.busy": "2024-02-21T06:52:18.303276Z",
          "iopub.execute_input": "2024-02-21T06:52:18.303619Z",
          "iopub.status.idle": "2024-02-21T06:52:18.308041Z",
          "shell.execute_reply.started": "2024-02-21T06:52:18.303594Z",
          "shell.execute_reply": "2024-02-21T06:52:18.307044Z"
        },
        "trusted": true,
        "id": "KPIUCh7P71uJ"
      },
      "execution_count": null,
      "outputs": []
    },
    {
      "cell_type": "code",
      "source": [
        "# import shutil\n",
        "\n",
        "# # Specify the directory you want to delete\n",
        "# directory_to_delete = \"/kaggle/working/output/train/leaf\"\n",
        "\n",
        "# # Use shutil.rmtree() to recursively remove the directory and its contents\n",
        "# shutil.rmtree(directory_to_delete)\n",
        "\n",
        "# print(\"Directory deleted successfully.\")\n"
      ],
      "metadata": {
        "execution": {
          "iopub.status.busy": "2024-02-21T06:51:08.096254Z",
          "iopub.execute_input": "2024-02-21T06:51:08.096607Z",
          "iopub.status.idle": "2024-02-21T06:51:08.102140Z",
          "shell.execute_reply.started": "2024-02-21T06:51:08.096581Z",
          "shell.execute_reply": "2024-02-21T06:51:08.101281Z"
        },
        "trusted": true,
        "id": "VcCnz2W171uJ",
        "outputId": "c5b86419-f90a-4ffd-aebd-0a0d230305f0"
      },
      "execution_count": null,
      "outputs": [
        {
          "name": "stdout",
          "text": "Directory deleted successfully.\n",
          "output_type": "stream"
        }
      ]
    },
    {
      "cell_type": "code",
      "source": [
        "vgg = VGG16(input_shape=IMAGE_SIZE + [3], weights ='imagenet',include_top = False)\n",
        "for layer in vgg.layers:\n",
        "    layer.trainable = False"
      ],
      "metadata": {
        "execution": {
          "iopub.status.busy": "2024-02-21T06:52:32.679387Z",
          "iopub.execute_input": "2024-02-21T06:52:32.680234Z",
          "iopub.status.idle": "2024-02-21T06:52:34.615092Z",
          "shell.execute_reply.started": "2024-02-21T06:52:32.680200Z",
          "shell.execute_reply": "2024-02-21T06:52:34.613946Z"
        },
        "trusted": true,
        "id": "im3ji6Ja71uK",
        "outputId": "f55ef1d6-1167-477d-98cc-d0541cda4777"
      },
      "execution_count": null,
      "outputs": [
        {
          "name": "stdout",
          "text": "Downloading data from https://storage.googleapis.com/tensorflow/keras-applications/vgg16/vgg16_weights_tf_dim_ordering_tf_kernels_notop.h5\n58889256/58889256 [==============================] - 0s 0us/step\n",
          "output_type": "stream"
        }
      ]
    },
    {
      "cell_type": "code",
      "source": [
        "folders = glob('/kaggle/working/output/train')\n",
        "len(folders)"
      ],
      "metadata": {
        "execution": {
          "iopub.status.busy": "2024-02-21T06:53:10.319340Z",
          "iopub.execute_input": "2024-02-21T06:53:10.320210Z",
          "iopub.status.idle": "2024-02-21T06:53:10.326773Z",
          "shell.execute_reply.started": "2024-02-21T06:53:10.320181Z",
          "shell.execute_reply": "2024-02-21T06:53:10.325899Z"
        },
        "trusted": true,
        "id": "T0Rl6QCq71uK",
        "outputId": "9d8039e3-2bc0-482a-f6e2-161d281047ef"
      },
      "execution_count": null,
      "outputs": [
        {
          "execution_count": 16,
          "output_type": "execute_result",
          "data": {
            "text/plain": "1"
          },
          "metadata": {}
        }
      ]
    },
    {
      "cell_type": "code",
      "source": [
        "x = Flatten()(vgg.output)\n",
        "prediction = Dense(len(folders), activation='softmax')(x)"
      ],
      "metadata": {
        "execution": {
          "iopub.status.busy": "2024-02-21T06:53:29.861108Z",
          "iopub.execute_input": "2024-02-21T06:53:29.861799Z",
          "iopub.status.idle": "2024-02-21T06:53:29.893712Z",
          "shell.execute_reply.started": "2024-02-21T06:53:29.861767Z",
          "shell.execute_reply": "2024-02-21T06:53:29.892807Z"
        },
        "trusted": true,
        "id": "cVIbH3Ey71uL"
      },
      "execution_count": null,
      "outputs": []
    },
    {
      "cell_type": "code",
      "source": [
        "model = Model(inputs=vgg.input, outputs=prediction)\n",
        "model.summary()"
      ],
      "metadata": {
        "execution": {
          "iopub.status.busy": "2024-02-21T06:53:35.566746Z",
          "iopub.execute_input": "2024-02-21T06:53:35.567116Z",
          "iopub.status.idle": "2024-02-21T06:53:35.619460Z",
          "shell.execute_reply.started": "2024-02-21T06:53:35.567086Z",
          "shell.execute_reply": "2024-02-21T06:53:35.618588Z"
        },
        "trusted": true,
        "id": "UrfQnpQ371uL",
        "outputId": "6de90350-21da-45e6-b204-67ec7e9bd722"
      },
      "execution_count": null,
      "outputs": [
        {
          "name": "stdout",
          "text": "Model: \"model\"\n_________________________________________________________________\n Layer (type)                Output Shape              Param #   \n=================================================================\n input_1 (InputLayer)        [(None, 224, 224, 3)]     0         \n                                                                 \n block1_conv1 (Conv2D)       (None, 224, 224, 64)      1792      \n                                                                 \n block1_conv2 (Conv2D)       (None, 224, 224, 64)      36928     \n                                                                 \n block1_pool (MaxPooling2D)  (None, 112, 112, 64)      0         \n                                                                 \n block2_conv1 (Conv2D)       (None, 112, 112, 128)     73856     \n                                                                 \n block2_conv2 (Conv2D)       (None, 112, 112, 128)     147584    \n                                                                 \n block2_pool (MaxPooling2D)  (None, 56, 56, 128)       0         \n                                                                 \n block3_conv1 (Conv2D)       (None, 56, 56, 256)       295168    \n                                                                 \n block3_conv2 (Conv2D)       (None, 56, 56, 256)       590080    \n                                                                 \n block3_conv3 (Conv2D)       (None, 56, 56, 256)       590080    \n                                                                 \n block3_pool (MaxPooling2D)  (None, 28, 28, 256)       0         \n                                                                 \n block4_conv1 (Conv2D)       (None, 28, 28, 512)       1180160   \n                                                                 \n block4_conv2 (Conv2D)       (None, 28, 28, 512)       2359808   \n                                                                 \n block4_conv3 (Conv2D)       (None, 28, 28, 512)       2359808   \n                                                                 \n block4_pool (MaxPooling2D)  (None, 14, 14, 512)       0         \n                                                                 \n block5_conv1 (Conv2D)       (None, 14, 14, 512)       2359808   \n                                                                 \n block5_conv2 (Conv2D)       (None, 14, 14, 512)       2359808   \n                                                                 \n block5_conv3 (Conv2D)       (None, 14, 14, 512)       2359808   \n                                                                 \n block5_pool (MaxPooling2D)  (None, 7, 7, 512)         0         \n                                                                 \n flatten (Flatten)           (None, 25088)             0         \n                                                                 \n dense (Dense)               (None, 1)                 25089     \n                                                                 \n=================================================================\nTotal params: 14739777 (56.23 MB)\nTrainable params: 25089 (98.00 KB)\nNon-trainable params: 14714688 (56.13 MB)\n_________________________________________________________________\n",
          "output_type": "stream"
        }
      ]
    },
    {
      "cell_type": "code",
      "source": [
        "model.compile(\n",
        "    loss='categorical_crossentropy',\n",
        "    optimizer='adam',\n",
        "    metrics=['accuracy']  # Change 'metrices' to 'metrics'\n",
        ")\n"
      ],
      "metadata": {
        "execution": {
          "iopub.status.busy": "2024-02-21T06:54:09.861804Z",
          "iopub.execute_input": "2024-02-21T06:54:09.862223Z",
          "iopub.status.idle": "2024-02-21T06:54:09.880840Z",
          "shell.execute_reply.started": "2024-02-21T06:54:09.862194Z",
          "shell.execute_reply": "2024-02-21T06:54:09.880137Z"
        },
        "trusted": true,
        "id": "ikT4fa3J71uM"
      },
      "execution_count": null,
      "outputs": []
    },
    {
      "cell_type": "code",
      "source": [
        "from keras.preprocessing.image import ImageDataGenerator\n",
        "train_datagen = ImageDataGenerator(rescale = 1./255,\n",
        "                                  shear_range =0.2,\n",
        "                                  zoom_range =0.2,\n",
        "                                  horizontal_flip = True)\n",
        "test_datagen = ImageDataGenerator(rescale = 1./255)\n",
        "training_set = train_datagen.flow_from_directory(train_directory,\n",
        "                                                 target_size =(224,224),\n",
        "                                                 batch_size = 32,\n",
        "                                                 class_mode ='categorical'\n",
        "                                                )\n",
        "\n",
        "test_set = test_datagen.flow_from_directory(test_directory,\n",
        "                                                 target_size =(224,224),\n",
        "                                                 batch_size = 32,\n",
        "                                                 class_mode ='categorical'\n",
        "                                                )"
      ],
      "metadata": {
        "execution": {
          "iopub.status.busy": "2024-02-21T06:54:17.502576Z",
          "iopub.execute_input": "2024-02-21T06:54:17.502942Z",
          "iopub.status.idle": "2024-02-21T06:54:17.646844Z",
          "shell.execute_reply.started": "2024-02-21T06:54:17.502911Z",
          "shell.execute_reply": "2024-02-21T06:54:17.646140Z"
        },
        "trusted": true,
        "id": "5v96m8L771uM",
        "outputId": "9b2e28a3-2857-40d8-c283-6c141a2b8011"
      },
      "execution_count": null,
      "outputs": [
        {
          "name": "stdout",
          "text": "Found 3146 images belonging to 12 classes.\nFound 462 images belonging to 12 classes.\n",
          "output_type": "stream"
        }
      ]
    },
    {
      "cell_type": "code",
      "source": [
        "print(len(training_set))\n",
        "print(len(test_set))"
      ],
      "metadata": {
        "execution": {
          "iopub.status.busy": "2024-02-21T06:54:23.106922Z",
          "iopub.execute_input": "2024-02-21T06:54:23.107289Z",
          "iopub.status.idle": "2024-02-21T06:54:23.112263Z",
          "shell.execute_reply.started": "2024-02-21T06:54:23.107263Z",
          "shell.execute_reply": "2024-02-21T06:54:23.111209Z"
        },
        "trusted": true,
        "id": "dlQi_eRQ71uN",
        "outputId": "7a2f70df-5f83-49ca-8e32-fda96ea71bbc"
      },
      "execution_count": null,
      "outputs": [
        {
          "name": "stdout",
          "text": "99\n15\n",
          "output_type": "stream"
        }
      ]
    },
    {
      "cell_type": "code",
      "source": [
        "r = model.fit_generator(\n",
        "    training_set,\n",
        "#     steps_per_epochs=16,\n",
        "    validation_data=test_set,\n",
        "    epochs =5,\n",
        "    steps_per_epoch=16,\n",
        "    validation_steps=len(test_set)\n",
        ")"
      ],
      "metadata": {
        "execution": {
          "iopub.status.busy": "2024-02-21T07:09:21.878669Z",
          "iopub.execute_input": "2024-02-21T07:09:21.879450Z",
          "iopub.status.idle": "2024-02-21T07:09:31.698839Z",
          "shell.execute_reply.started": "2024-02-21T07:09:21.879412Z",
          "shell.execute_reply": "2024-02-21T07:09:31.697014Z"
        },
        "trusted": true,
        "id": "ZrfQq0KG71uN",
        "outputId": "c556d863-b43d-46ae-d273-5c4c0c598551"
      },
      "execution_count": null,
      "outputs": [
        {
          "name": "stderr",
          "text": "/tmp/ipykernel_34/1341036650.py:1: UserWarning: `Model.fit_generator` is deprecated and will be removed in a future version. Please use `Model.fit`, which supports generators.\n  r = model.fit_generator(\n",
          "output_type": "stream"
        },
        {
          "name": "stdout",
          "text": "Epoch 1/5\n",
          "output_type": "stream"
        },
        {
          "traceback": [
            "\u001b[0;31m---------------------------------------------------------------------------\u001b[0m",
            "\u001b[0;31mInvalidArgumentError\u001b[0m                      Traceback (most recent call last)",
            "Cell \u001b[0;32mIn[39], line 1\u001b[0m\n\u001b[0;32m----> 1\u001b[0m r \u001b[38;5;241m=\u001b[39m \u001b[43mmodel\u001b[49m\u001b[38;5;241;43m.\u001b[39;49m\u001b[43mfit_generator\u001b[49m\u001b[43m(\u001b[49m\n\u001b[1;32m      2\u001b[0m \u001b[43m    \u001b[49m\u001b[43mtraining_set\u001b[49m\u001b[43m,\u001b[49m\n\u001b[1;32m      3\u001b[0m \u001b[38;5;66;43;03m#     steps_per_epochs=16,\u001b[39;49;00m\n\u001b[1;32m      4\u001b[0m \u001b[43m    \u001b[49m\u001b[43mvalidation_data\u001b[49m\u001b[38;5;241;43m=\u001b[39;49m\u001b[43mtest_set\u001b[49m\u001b[43m,\u001b[49m\n\u001b[1;32m      5\u001b[0m \u001b[43m    \u001b[49m\u001b[43mepochs\u001b[49m\u001b[43m \u001b[49m\u001b[38;5;241;43m=\u001b[39;49m\u001b[38;5;241;43m5\u001b[39;49m\u001b[43m,\u001b[49m\n\u001b[1;32m      6\u001b[0m \u001b[43m    \u001b[49m\u001b[43msteps_per_epoch\u001b[49m\u001b[38;5;241;43m=\u001b[39;49m\u001b[38;5;241;43m16\u001b[39;49m\u001b[43m,\u001b[49m\n\u001b[1;32m      7\u001b[0m \u001b[43m    \u001b[49m\u001b[43mvalidation_steps\u001b[49m\u001b[38;5;241;43m=\u001b[39;49m\u001b[38;5;28;43mlen\u001b[39;49m\u001b[43m(\u001b[49m\u001b[43mtest_set\u001b[49m\u001b[43m)\u001b[49m\n\u001b[1;32m      8\u001b[0m \u001b[43m)\u001b[49m\n",
            "File \u001b[0;32m/opt/conda/lib/python3.10/site-packages/keras/src/engine/training.py:2913\u001b[0m, in \u001b[0;36mModel.fit_generator\u001b[0;34m(self, generator, steps_per_epoch, epochs, verbose, callbacks, validation_data, validation_steps, validation_freq, class_weight, max_queue_size, workers, use_multiprocessing, shuffle, initial_epoch)\u001b[0m\n\u001b[1;32m   2901\u001b[0m \u001b[38;5;250m\u001b[39m\u001b[38;5;124;03m\"\"\"Fits the model on data yielded batch-by-batch by a Python generator.\u001b[39;00m\n\u001b[1;32m   2902\u001b[0m \n\u001b[1;32m   2903\u001b[0m \u001b[38;5;124;03mDEPRECATED:\u001b[39;00m\n\u001b[1;32m   2904\u001b[0m \u001b[38;5;124;03m  `Model.fit` now supports generators, so there is no longer any need to\u001b[39;00m\n\u001b[1;32m   2905\u001b[0m \u001b[38;5;124;03m  use this endpoint.\u001b[39;00m\n\u001b[1;32m   2906\u001b[0m \u001b[38;5;124;03m\"\"\"\u001b[39;00m\n\u001b[1;32m   2907\u001b[0m warnings\u001b[38;5;241m.\u001b[39mwarn(\n\u001b[1;32m   2908\u001b[0m     \u001b[38;5;124m\"\u001b[39m\u001b[38;5;124m`Model.fit_generator` is deprecated and \u001b[39m\u001b[38;5;124m\"\u001b[39m\n\u001b[1;32m   2909\u001b[0m     \u001b[38;5;124m\"\u001b[39m\u001b[38;5;124mwill be removed in a future version. \u001b[39m\u001b[38;5;124m\"\u001b[39m\n\u001b[1;32m   2910\u001b[0m     \u001b[38;5;124m\"\u001b[39m\u001b[38;5;124mPlease use `Model.fit`, which supports generators.\u001b[39m\u001b[38;5;124m\"\u001b[39m,\n\u001b[1;32m   2911\u001b[0m     stacklevel\u001b[38;5;241m=\u001b[39m\u001b[38;5;241m2\u001b[39m,\n\u001b[1;32m   2912\u001b[0m )\n\u001b[0;32m-> 2913\u001b[0m \u001b[38;5;28;01mreturn\u001b[39;00m \u001b[38;5;28;43mself\u001b[39;49m\u001b[38;5;241;43m.\u001b[39;49m\u001b[43mfit\u001b[49m\u001b[43m(\u001b[49m\n\u001b[1;32m   2914\u001b[0m \u001b[43m    \u001b[49m\u001b[43mgenerator\u001b[49m\u001b[43m,\u001b[49m\n\u001b[1;32m   2915\u001b[0m \u001b[43m    \u001b[49m\u001b[43msteps_per_epoch\u001b[49m\u001b[38;5;241;43m=\u001b[39;49m\u001b[43msteps_per_epoch\u001b[49m\u001b[43m,\u001b[49m\n\u001b[1;32m   2916\u001b[0m \u001b[43m    \u001b[49m\u001b[43mepochs\u001b[49m\u001b[38;5;241;43m=\u001b[39;49m\u001b[43mepochs\u001b[49m\u001b[43m,\u001b[49m\n\u001b[1;32m   2917\u001b[0m \u001b[43m    \u001b[49m\u001b[43mverbose\u001b[49m\u001b[38;5;241;43m=\u001b[39;49m\u001b[43mverbose\u001b[49m\u001b[43m,\u001b[49m\n\u001b[1;32m   2918\u001b[0m \u001b[43m    \u001b[49m\u001b[43mcallbacks\u001b[49m\u001b[38;5;241;43m=\u001b[39;49m\u001b[43mcallbacks\u001b[49m\u001b[43m,\u001b[49m\n\u001b[1;32m   2919\u001b[0m \u001b[43m    \u001b[49m\u001b[43mvalidation_data\u001b[49m\u001b[38;5;241;43m=\u001b[39;49m\u001b[43mvalidation_data\u001b[49m\u001b[43m,\u001b[49m\n\u001b[1;32m   2920\u001b[0m \u001b[43m    \u001b[49m\u001b[43mvalidation_steps\u001b[49m\u001b[38;5;241;43m=\u001b[39;49m\u001b[43mvalidation_steps\u001b[49m\u001b[43m,\u001b[49m\n\u001b[1;32m   2921\u001b[0m \u001b[43m    \u001b[49m\u001b[43mvalidation_freq\u001b[49m\u001b[38;5;241;43m=\u001b[39;49m\u001b[43mvalidation_freq\u001b[49m\u001b[43m,\u001b[49m\n\u001b[1;32m   2922\u001b[0m \u001b[43m    \u001b[49m\u001b[43mclass_weight\u001b[49m\u001b[38;5;241;43m=\u001b[39;49m\u001b[43mclass_weight\u001b[49m\u001b[43m,\u001b[49m\n\u001b[1;32m   2923\u001b[0m \u001b[43m    \u001b[49m\u001b[43mmax_queue_size\u001b[49m\u001b[38;5;241;43m=\u001b[39;49m\u001b[43mmax_queue_size\u001b[49m\u001b[43m,\u001b[49m\n\u001b[1;32m   2924\u001b[0m \u001b[43m    \u001b[49m\u001b[43mworkers\u001b[49m\u001b[38;5;241;43m=\u001b[39;49m\u001b[43mworkers\u001b[49m\u001b[43m,\u001b[49m\n\u001b[1;32m   2925\u001b[0m \u001b[43m    \u001b[49m\u001b[43muse_multiprocessing\u001b[49m\u001b[38;5;241;43m=\u001b[39;49m\u001b[43muse_multiprocessing\u001b[49m\u001b[43m,\u001b[49m\n\u001b[1;32m   2926\u001b[0m \u001b[43m    \u001b[49m\u001b[43mshuffle\u001b[49m\u001b[38;5;241;43m=\u001b[39;49m\u001b[43mshuffle\u001b[49m\u001b[43m,\u001b[49m\n\u001b[1;32m   2927\u001b[0m \u001b[43m    \u001b[49m\u001b[43minitial_epoch\u001b[49m\u001b[38;5;241;43m=\u001b[39;49m\u001b[43minitial_epoch\u001b[49m\u001b[43m,\u001b[49m\n\u001b[1;32m   2928\u001b[0m \u001b[43m\u001b[49m\u001b[43m)\u001b[49m\n",
            "File \u001b[0;32m/opt/conda/lib/python3.10/site-packages/keras/src/utils/traceback_utils.py:70\u001b[0m, in \u001b[0;36mfilter_traceback.<locals>.error_handler\u001b[0;34m(*args, **kwargs)\u001b[0m\n\u001b[1;32m     67\u001b[0m     filtered_tb \u001b[38;5;241m=\u001b[39m _process_traceback_frames(e\u001b[38;5;241m.\u001b[39m__traceback__)\n\u001b[1;32m     68\u001b[0m     \u001b[38;5;66;03m# To get the full stack trace, call:\u001b[39;00m\n\u001b[1;32m     69\u001b[0m     \u001b[38;5;66;03m# `tf.debugging.disable_traceback_filtering()`\u001b[39;00m\n\u001b[0;32m---> 70\u001b[0m     \u001b[38;5;28;01mraise\u001b[39;00m e\u001b[38;5;241m.\u001b[39mwith_traceback(filtered_tb) \u001b[38;5;28;01mfrom\u001b[39;00m \u001b[38;5;28;01mNone\u001b[39;00m\n\u001b[1;32m     71\u001b[0m \u001b[38;5;28;01mfinally\u001b[39;00m:\n\u001b[1;32m     72\u001b[0m     \u001b[38;5;28;01mdel\u001b[39;00m filtered_tb\n",
            "File \u001b[0;32m/opt/conda/lib/python3.10/site-packages/tensorflow/python/eager/execute.py:53\u001b[0m, in \u001b[0;36mquick_execute\u001b[0;34m(op_name, num_outputs, inputs, attrs, ctx, name)\u001b[0m\n\u001b[1;32m     51\u001b[0m \u001b[38;5;28;01mtry\u001b[39;00m:\n\u001b[1;32m     52\u001b[0m   ctx\u001b[38;5;241m.\u001b[39mensure_initialized()\n\u001b[0;32m---> 53\u001b[0m   tensors \u001b[38;5;241m=\u001b[39m pywrap_tfe\u001b[38;5;241m.\u001b[39mTFE_Py_Execute(ctx\u001b[38;5;241m.\u001b[39m_handle, device_name, op_name,\n\u001b[1;32m     54\u001b[0m                                       inputs, attrs, num_outputs)\n\u001b[1;32m     55\u001b[0m \u001b[38;5;28;01mexcept\u001b[39;00m core\u001b[38;5;241m.\u001b[39m_NotOkStatusException \u001b[38;5;28;01mas\u001b[39;00m e:\n\u001b[1;32m     56\u001b[0m   \u001b[38;5;28;01mif\u001b[39;00m name \u001b[38;5;129;01mis\u001b[39;00m \u001b[38;5;129;01mnot\u001b[39;00m \u001b[38;5;28;01mNone\u001b[39;00m:\n",
            "\u001b[0;31mInvalidArgumentError\u001b[0m: Graph execution error:\n\nDetected at node AssignAddVariableOp defined at (most recent call last):\n  File \"/opt/conda/lib/python3.10/runpy.py\", line 196, in _run_module_as_main\n\n  File \"/opt/conda/lib/python3.10/runpy.py\", line 86, in _run_code\n\n  File \"/opt/conda/lib/python3.10/site-packages/ipykernel_launcher.py\", line 17, in <module>\n\n  File \"/opt/conda/lib/python3.10/site-packages/traitlets/config/application.py\", line 1043, in launch_instance\n\n  File \"/opt/conda/lib/python3.10/site-packages/ipykernel/kernelapp.py\", line 701, in start\n\n  File \"/opt/conda/lib/python3.10/site-packages/tornado/platform/asyncio.py\", line 195, in start\n\n  File \"/opt/conda/lib/python3.10/asyncio/base_events.py\", line 603, in run_forever\n\n  File \"/opt/conda/lib/python3.10/asyncio/base_events.py\", line 1909, in _run_once\n\n  File \"/opt/conda/lib/python3.10/asyncio/events.py\", line 80, in _run\n\n  File \"/opt/conda/lib/python3.10/site-packages/ipykernel/kernelbase.py\", line 534, in dispatch_queue\n\n  File \"/opt/conda/lib/python3.10/site-packages/ipykernel/kernelbase.py\", line 523, in process_one\n\n  File \"/opt/conda/lib/python3.10/site-packages/ipykernel/kernelbase.py\", line 429, in dispatch_shell\n\n  File \"/opt/conda/lib/python3.10/site-packages/ipykernel/kernelbase.py\", line 767, in execute_request\n\n  File \"/opt/conda/lib/python3.10/site-packages/ipykernel/ipkernel.py\", line 429, in do_execute\n\n  File \"/opt/conda/lib/python3.10/site-packages/ipykernel/zmqshell.py\", line 549, in run_cell\n\n  File \"/opt/conda/lib/python3.10/site-packages/IPython/core/interactiveshell.py\", line 3051, in run_cell\n\n  File \"/opt/conda/lib/python3.10/site-packages/IPython/core/interactiveshell.py\", line 3106, in _run_cell\n\n  File \"/opt/conda/lib/python3.10/site-packages/IPython/core/async_helpers.py\", line 129, in _pseudo_sync_runner\n\n  File \"/opt/conda/lib/python3.10/site-packages/IPython/core/interactiveshell.py\", line 3311, in run_cell_async\n\n  File \"/opt/conda/lib/python3.10/site-packages/IPython/core/interactiveshell.py\", line 3493, in run_ast_nodes\n\n  File \"/opt/conda/lib/python3.10/site-packages/IPython/core/interactiveshell.py\", line 3553, in run_code\n\n  File \"/tmp/ipykernel_34/2401098884.py\", line 1, in <module>\n\n  File \"/opt/conda/lib/python3.10/site-packages/keras/src/engine/training.py\", line 2913, in fit_generator\n\n  File \"/opt/conda/lib/python3.10/site-packages/keras/src/utils/traceback_utils.py\", line 65, in error_handler\n\n  File \"/opt/conda/lib/python3.10/site-packages/keras/src/engine/training.py\", line 1807, in fit\n\n  File \"/opt/conda/lib/python3.10/site-packages/keras/src/engine/training.py\", line 1401, in train_function\n\n  File \"/opt/conda/lib/python3.10/site-packages/keras/src/engine/training.py\", line 1384, in step_function\n\n  File \"/opt/conda/lib/python3.10/site-packages/keras/src/engine/training.py\", line 1373, in run_step\n\n  File \"/opt/conda/lib/python3.10/site-packages/keras/src/engine/training.py\", line 1151, in train_step\n\n  File \"/opt/conda/lib/python3.10/site-packages/keras/src/engine/training.py\", line 1209, in compute_loss\n\n  File \"/opt/conda/lib/python3.10/site-packages/keras/src/engine/compile_utils.py\", line 329, in __call__\n\n  File \"/opt/conda/lib/python3.10/site-packages/keras/src/utils/metrics_utils.py\", line 77, in decorated\n\n  File \"/opt/conda/lib/python3.10/site-packages/keras/src/metrics/base_metric.py\", line 140, in update_state_fn\n\n  File \"/opt/conda/lib/python3.10/site-packages/keras/src/metrics/base_metric.py\", line 528, in update_state\n\nCannot update variable with shape [25088,1] using a Tensor with shape [25088,12], shapes must be equal.\n\nStack trace for op definition: \nFile \"opt/conda/lib/python3.10/runpy.py\", line 196, in _run_module_as_main\nFile \"opt/conda/lib/python3.10/runpy.py\", line 86, in _run_code\nFile \"opt/conda/lib/python3.10/site-packages/ipykernel_launcher.py\", line 17, in <module>\nFile \"opt/conda/lib/python3.10/site-packages/traitlets/config/application.py\", line 1043, in launch_instance\nFile \"opt/conda/lib/python3.10/site-packages/ipykernel/kernelapp.py\", line 701, in start\nFile \"opt/conda/lib/python3.10/site-packages/tornado/platform/asyncio.py\", line 195, in start\nFile \"opt/conda/lib/python3.10/asyncio/base_events.py\", line 603, in run_forever\nFile \"opt/conda/lib/python3.10/asyncio/base_events.py\", line 1909, in _run_once\nFile \"opt/conda/lib/python3.10/asyncio/events.py\", line 80, in _run\nFile \"opt/conda/lib/python3.10/site-packages/ipykernel/kernelbase.py\", line 534, in dispatch_queue\nFile \"opt/conda/lib/python3.10/site-packages/ipykernel/kernelbase.py\", line 523, in process_one\nFile \"opt/conda/lib/python3.10/site-packages/ipykernel/kernelbase.py\", line 429, in dispatch_shell\nFile \"opt/conda/lib/python3.10/site-packages/ipykernel/kernelbase.py\", line 767, in execute_request\nFile \"opt/conda/lib/python3.10/site-packages/ipykernel/ipkernel.py\", line 429, in do_execute\nFile \"opt/conda/lib/python3.10/site-packages/ipykernel/zmqshell.py\", line 549, in run_cell\nFile \"opt/conda/lib/python3.10/site-packages/IPython/core/interactiveshell.py\", line 3051, in run_cell\nFile \"opt/conda/lib/python3.10/site-packages/IPython/core/interactiveshell.py\", line 3106, in _run_cell\nFile \"opt/conda/lib/python3.10/site-packages/IPython/core/async_helpers.py\", line 129, in _pseudo_sync_runner\nFile \"opt/conda/lib/python3.10/site-packages/IPython/core/interactiveshell.py\", line 3311, in run_cell_async\nFile \"opt/conda/lib/python3.10/site-packages/IPython/core/interactiveshell.py\", line 3493, in run_ast_nodes\nFile \"opt/conda/lib/python3.10/site-packages/IPython/core/interactiveshell.py\", line 3553, in run_code\nFile \"tmp/ipykernel_34/2401098884.py\", line 1, in <module>\nFile \"opt/conda/lib/python3.10/site-packages/keras/src/engine/training.py\", line 2913, in fit_generator\nFile \"opt/conda/lib/python3.10/site-packages/keras/src/utils/traceback_utils.py\", line 65, in error_handler\nFile \"opt/conda/lib/python3.10/site-packages/keras/src/engine/training.py\", line 1807, in fit\nFile \"opt/conda/lib/python3.10/site-packages/keras/src/engine/training.py\", line 1401, in train_function\nFile \"opt/conda/lib/python3.10/site-packages/keras/src/engine/training.py\", line 1384, in step_function\nFile \"opt/conda/lib/python3.10/site-packages/keras/src/engine/training.py\", line 1373, in run_step\nFile \"opt/conda/lib/python3.10/site-packages/keras/src/engine/training.py\", line 1154, in train_step\nFile \"opt/conda/lib/python3.10/site-packages/keras/src/optimizers/optimizer.py\", line 544, in minimize\nFile \"opt/conda/lib/python3.10/site-packages/keras/src/optimizers/optimizer.py\", line 1223, in apply_gradients\nFile \"opt/conda/lib/python3.10/site-packages/keras/src/optimizers/optimizer.py\", line 652, in apply_gradients\nFile \"opt/conda/lib/python3.10/site-packages/keras/src/optimizers/optimizer.py\", line 1253, in _internal_apply_gradients\nFile \"opt/conda/lib/python3.10/site-packages/keras/src/optimizers/optimizer.py\", line 1345, in _distributed_apply_gradients_fn\nFile \"opt/conda/lib/python3.10/site-packages/keras/src/optimizers/optimizer.py\", line 1340, in apply_grad_to_update_var\nFile \"opt/conda/lib/python3.10/site-packages/keras/src/optimizers/optimizer.py\", line 225, in _update_step_xla\nFile \"opt/conda/lib/python3.10/site-packages/keras/src/optimizers/optimizer.py\", line 241, in _update_step\nFile \"opt/conda/lib/python3.10/site-packages/keras/src/optimizers/adam.py\", line 198, in update_step\n\n\t [[{{node AssignAddVariableOp}}]]\n\ttf2xla conversion failed while converting __inference__update_step_xla_871[]. Run with TF_DUMP_GRAPH_PREFIX=/path/to/dump/dir and --vmodule=xla_compiler=2 to obtain a dump of the compiled functions.\n\t [[Adam/StatefulPartitionedCall]] [Op:__inference_train_function_1311]"
          ],
          "ename": "InvalidArgumentError",
          "evalue": "Graph execution error:\n\nDetected at node AssignAddVariableOp defined at (most recent call last):\n  File \"/opt/conda/lib/python3.10/runpy.py\", line 196, in _run_module_as_main\n\n  File \"/opt/conda/lib/python3.10/runpy.py\", line 86, in _run_code\n\n  File \"/opt/conda/lib/python3.10/site-packages/ipykernel_launcher.py\", line 17, in <module>\n\n  File \"/opt/conda/lib/python3.10/site-packages/traitlets/config/application.py\", line 1043, in launch_instance\n\n  File \"/opt/conda/lib/python3.10/site-packages/ipykernel/kernelapp.py\", line 701, in start\n\n  File \"/opt/conda/lib/python3.10/site-packages/tornado/platform/asyncio.py\", line 195, in start\n\n  File \"/opt/conda/lib/python3.10/asyncio/base_events.py\", line 603, in run_forever\n\n  File \"/opt/conda/lib/python3.10/asyncio/base_events.py\", line 1909, in _run_once\n\n  File \"/opt/conda/lib/python3.10/asyncio/events.py\", line 80, in _run\n\n  File \"/opt/conda/lib/python3.10/site-packages/ipykernel/kernelbase.py\", line 534, in dispatch_queue\n\n  File \"/opt/conda/lib/python3.10/site-packages/ipykernel/kernelbase.py\", line 523, in process_one\n\n  File \"/opt/conda/lib/python3.10/site-packages/ipykernel/kernelbase.py\", line 429, in dispatch_shell\n\n  File \"/opt/conda/lib/python3.10/site-packages/ipykernel/kernelbase.py\", line 767, in execute_request\n\n  File \"/opt/conda/lib/python3.10/site-packages/ipykernel/ipkernel.py\", line 429, in do_execute\n\n  File \"/opt/conda/lib/python3.10/site-packages/ipykernel/zmqshell.py\", line 549, in run_cell\n\n  File \"/opt/conda/lib/python3.10/site-packages/IPython/core/interactiveshell.py\", line 3051, in run_cell\n\n  File \"/opt/conda/lib/python3.10/site-packages/IPython/core/interactiveshell.py\", line 3106, in _run_cell\n\n  File \"/opt/conda/lib/python3.10/site-packages/IPython/core/async_helpers.py\", line 129, in _pseudo_sync_runner\n\n  File \"/opt/conda/lib/python3.10/site-packages/IPython/core/interactiveshell.py\", line 3311, in run_cell_async\n\n  File \"/opt/conda/lib/python3.10/site-packages/IPython/core/interactiveshell.py\", line 3493, in run_ast_nodes\n\n  File \"/opt/conda/lib/python3.10/site-packages/IPython/core/interactiveshell.py\", line 3553, in run_code\n\n  File \"/tmp/ipykernel_34/2401098884.py\", line 1, in <module>\n\n  File \"/opt/conda/lib/python3.10/site-packages/keras/src/engine/training.py\", line 2913, in fit_generator\n\n  File \"/opt/conda/lib/python3.10/site-packages/keras/src/utils/traceback_utils.py\", line 65, in error_handler\n\n  File \"/opt/conda/lib/python3.10/site-packages/keras/src/engine/training.py\", line 1807, in fit\n\n  File \"/opt/conda/lib/python3.10/site-packages/keras/src/engine/training.py\", line 1401, in train_function\n\n  File \"/opt/conda/lib/python3.10/site-packages/keras/src/engine/training.py\", line 1384, in step_function\n\n  File \"/opt/conda/lib/python3.10/site-packages/keras/src/engine/training.py\", line 1373, in run_step\n\n  File \"/opt/conda/lib/python3.10/site-packages/keras/src/engine/training.py\", line 1151, in train_step\n\n  File \"/opt/conda/lib/python3.10/site-packages/keras/src/engine/training.py\", line 1209, in compute_loss\n\n  File \"/opt/conda/lib/python3.10/site-packages/keras/src/engine/compile_utils.py\", line 329, in __call__\n\n  File \"/opt/conda/lib/python3.10/site-packages/keras/src/utils/metrics_utils.py\", line 77, in decorated\n\n  File \"/opt/conda/lib/python3.10/site-packages/keras/src/metrics/base_metric.py\", line 140, in update_state_fn\n\n  File \"/opt/conda/lib/python3.10/site-packages/keras/src/metrics/base_metric.py\", line 528, in update_state\n\nCannot update variable with shape [25088,1] using a Tensor with shape [25088,12], shapes must be equal.\n\nStack trace for op definition: \nFile \"opt/conda/lib/python3.10/runpy.py\", line 196, in _run_module_as_main\nFile \"opt/conda/lib/python3.10/runpy.py\", line 86, in _run_code\nFile \"opt/conda/lib/python3.10/site-packages/ipykernel_launcher.py\", line 17, in <module>\nFile \"opt/conda/lib/python3.10/site-packages/traitlets/config/application.py\", line 1043, in launch_instance\nFile \"opt/conda/lib/python3.10/site-packages/ipykernel/kernelapp.py\", line 701, in start\nFile \"opt/conda/lib/python3.10/site-packages/tornado/platform/asyncio.py\", line 195, in start\nFile \"opt/conda/lib/python3.10/asyncio/base_events.py\", line 603, in run_forever\nFile \"opt/conda/lib/python3.10/asyncio/base_events.py\", line 1909, in _run_once\nFile \"opt/conda/lib/python3.10/asyncio/events.py\", line 80, in _run\nFile \"opt/conda/lib/python3.10/site-packages/ipykernel/kernelbase.py\", line 534, in dispatch_queue\nFile \"opt/conda/lib/python3.10/site-packages/ipykernel/kernelbase.py\", line 523, in process_one\nFile \"opt/conda/lib/python3.10/site-packages/ipykernel/kernelbase.py\", line 429, in dispatch_shell\nFile \"opt/conda/lib/python3.10/site-packages/ipykernel/kernelbase.py\", line 767, in execute_request\nFile \"opt/conda/lib/python3.10/site-packages/ipykernel/ipkernel.py\", line 429, in do_execute\nFile \"opt/conda/lib/python3.10/site-packages/ipykernel/zmqshell.py\", line 549, in run_cell\nFile \"opt/conda/lib/python3.10/site-packages/IPython/core/interactiveshell.py\", line 3051, in run_cell\nFile \"opt/conda/lib/python3.10/site-packages/IPython/core/interactiveshell.py\", line 3106, in _run_cell\nFile \"opt/conda/lib/python3.10/site-packages/IPython/core/async_helpers.py\", line 129, in _pseudo_sync_runner\nFile \"opt/conda/lib/python3.10/site-packages/IPython/core/interactiveshell.py\", line 3311, in run_cell_async\nFile \"opt/conda/lib/python3.10/site-packages/IPython/core/interactiveshell.py\", line 3493, in run_ast_nodes\nFile \"opt/conda/lib/python3.10/site-packages/IPython/core/interactiveshell.py\", line 3553, in run_code\nFile \"tmp/ipykernel_34/2401098884.py\", line 1, in <module>\nFile \"opt/conda/lib/python3.10/site-packages/keras/src/engine/training.py\", line 2913, in fit_generator\nFile \"opt/conda/lib/python3.10/site-packages/keras/src/utils/traceback_utils.py\", line 65, in error_handler\nFile \"opt/conda/lib/python3.10/site-packages/keras/src/engine/training.py\", line 1807, in fit\nFile \"opt/conda/lib/python3.10/site-packages/keras/src/engine/training.py\", line 1401, in train_function\nFile \"opt/conda/lib/python3.10/site-packages/keras/src/engine/training.py\", line 1384, in step_function\nFile \"opt/conda/lib/python3.10/site-packages/keras/src/engine/training.py\", line 1373, in run_step\nFile \"opt/conda/lib/python3.10/site-packages/keras/src/engine/training.py\", line 1154, in train_step\nFile \"opt/conda/lib/python3.10/site-packages/keras/src/optimizers/optimizer.py\", line 544, in minimize\nFile \"opt/conda/lib/python3.10/site-packages/keras/src/optimizers/optimizer.py\", line 1223, in apply_gradients\nFile \"opt/conda/lib/python3.10/site-packages/keras/src/optimizers/optimizer.py\", line 652, in apply_gradients\nFile \"opt/conda/lib/python3.10/site-packages/keras/src/optimizers/optimizer.py\", line 1253, in _internal_apply_gradients\nFile \"opt/conda/lib/python3.10/site-packages/keras/src/optimizers/optimizer.py\", line 1345, in _distributed_apply_gradients_fn\nFile \"opt/conda/lib/python3.10/site-packages/keras/src/optimizers/optimizer.py\", line 1340, in apply_grad_to_update_var\nFile \"opt/conda/lib/python3.10/site-packages/keras/src/optimizers/optimizer.py\", line 225, in _update_step_xla\nFile \"opt/conda/lib/python3.10/site-packages/keras/src/optimizers/optimizer.py\", line 241, in _update_step\nFile \"opt/conda/lib/python3.10/site-packages/keras/src/optimizers/adam.py\", line 198, in update_step\n\n\t [[{{node AssignAddVariableOp}}]]\n\ttf2xla conversion failed while converting __inference__update_step_xla_871[]. Run with TF_DUMP_GRAPH_PREFIX=/path/to/dump/dir and --vmodule=xla_compiler=2 to obtain a dump of the compiled functions.\n\t [[Adam/StatefulPartitionedCall]] [Op:__inference_train_function_1311]",
          "output_type": "error"
        }
      ]
    },
    {
      "cell_type": "code",
      "source": [
        "plt.plot(r,history['loss'], label='train loss')\n",
        "plt.plot(r,history['val_loss'], label='val loss')\n",
        "plt.legend()\n",
        "plt.show()"
      ],
      "metadata": {
        "id": "jMfoZH1t71uN"
      },
      "execution_count": null,
      "outputs": []
    }
  ]
}