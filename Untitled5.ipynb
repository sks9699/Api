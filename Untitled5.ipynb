{
  "cells": [
    {
      "cell_type": "markdown",
      "metadata": {
        "id": "view-in-github",
        "colab_type": "text"
      },
      "source": [
        "<a href=\"https://colab.research.google.com/github/sks9699/Api/blob/master/Untitled5.ipynb\" target=\"_parent\"><img src=\"https://colab.research.google.com/assets/colab-badge.svg\" alt=\"Open In Colab\"/></a>"
      ]
    },
    {
      "cell_type": "code",
      "execution_count": 1,
      "metadata": {
        "id": "hPn6dywFzFV7",
        "colab": {
          "base_uri": "https://localhost:8080/"
        },
        "outputId": "a1a33aa6-46d4-48bd-db69-3195e32f8a8b"
      },
      "outputs": [
        {
          "output_type": "stream",
          "name": "stdout",
          "text": [
            "mkdir: cannot create directory ‘~p’: File exists\n",
            "mkdir: cannot create directory ‘/root/.kaggle’: File exists\n"
          ]
        }
      ],
      "source": [
        "!mkdir ~p ~/.kaggle\n",
        "!cp kaggle.json ~/.kaggle/"
      ]
    },
    {
      "cell_type": "code",
      "execution_count": 2,
      "metadata": {
        "colab": {
          "base_uri": "https://localhost:8080/"
        },
        "id": "wKWQwcAjzRxS",
        "outputId": "435de8a3-425c-4466-fe78-71df07fbdf1f"
      },
      "outputs": [
        {
          "output_type": "stream",
          "name": "stdout",
          "text": [
            "Warning: Your Kaggle API key is readable by other users on this system! To fix this, you can run 'chmod 600 /root/.kaggle/kaggle.json'\n",
            "leaf-class.zip: Skipping, found more recently modified local copy (use --force to force download)\n"
          ]
        }
      ],
      "source": [
        "!kaggle datasets download -d sks9699/leaf-class"
      ]
    },
    {
      "cell_type": "code",
      "execution_count": 3,
      "metadata": {
        "id": "Nsa50PugzTP1"
      },
      "outputs": [],
      "source": [
        "import zipfile\n",
        "zip_ref = zipfile.ZipFile('/content/leaf-class.zip','r')\n",
        "zip_ref.extractall('/content/dataset')\n",
        "zip_ref.close()"
      ]
    },
    {
      "cell_type": "code",
      "execution_count": 4,
      "metadata": {
        "id": "ETb6l5pgzvIq"
      },
      "outputs": [],
      "source": [
        "# TRAIN_DIR = \"./DATABASE\"\n",
        "ORG_DIR = \"/content/dataset/dataset/train\"\n",
        "CLASS = ['Alstonia Scholaris',\n",
        "         'Arjun',\n",
        "         'Bael',\n",
        "         'Basil',\n",
        "         'Chinar',\n",
        "         'Gauva',\n",
        "         'Jamun',\n",
        "         'Jatropha',\n",
        "         'Lemon',\n",
        "         'Mango',\n",
        "         'Pomegranate',\n",
        "         'Pongamia Pinnata']"
      ]
    },
    {
      "cell_type": "code",
      "execution_count": 5,
      "metadata": {
        "id": "VXiNwqv11Ji2"
      },
      "outputs": [],
      "source": [
        "import os\n",
        "from keras.applications.xception  import preprocess_input\n",
        "\n",
        "import numpy as np\n",
        "import matplotlib.pyplot as plt\n",
        "from keras.layers import Conv2D, MaxPooling2D, Flatten, Dense, Dropout\n",
        "from keras.models import Sequential\n",
        "from keras.preprocessing.image import ImageDataGenerator, load_img, img_to_array\n",
        "from keras.callbacks import ModelCheckpoint, EarlyStopping"
      ]
    },
    {
      "cell_type": "code",
      "execution_count": 6,
      "metadata": {
        "colab": {
          "base_uri": "https://localhost:8080/"
        },
        "id": "DRC92e6P1gsF",
        "outputId": "0290c46b-fbc8-4830-99b5-05ca46144279"
      },
      "outputs": [
        {
          "output_type": "stream",
          "name": "stdout",
          "text": [
            "Model: \"sequential\"\n",
            "_________________________________________________________________\n",
            " Layer (type)                Output Shape              Param #   \n",
            "=================================================================\n",
            " conv2d (Conv2D)             (None, 254, 254, 32)      896       \n",
            "                                                                 \n",
            " max_pooling2d (MaxPooling2  (None, 127, 127, 32)      0         \n",
            " D)                                                              \n",
            "                                                                 \n",
            " conv2d_1 (Conv2D)           (None, 125, 125, 64)      18496     \n",
            "                                                                 \n",
            " max_pooling2d_1 (MaxPoolin  (None, 62, 62, 64)        0         \n",
            " g2D)                                                            \n",
            "                                                                 \n",
            " conv2d_2 (Conv2D)           (None, 60, 60, 128)       73856     \n",
            "                                                                 \n",
            " max_pooling2d_2 (MaxPoolin  (None, 30, 30, 128)       0         \n",
            " g2D)                                                            \n",
            "                                                                 \n",
            " flatten (Flatten)           (None, 115200)            0         \n",
            "                                                                 \n",
            " dense (Dense)               (None, 512)               58982912  \n",
            "                                                                 \n",
            " dropout (Dropout)           (None, 512)               0         \n",
            "                                                                 \n",
            " dense_1 (Dense)             (None, 256)               131328    \n",
            "                                                                 \n",
            " dropout_1 (Dropout)         (None, 256)               0         \n",
            "                                                                 \n",
            " dense_2 (Dense)             (None, 12)                3084      \n",
            "                                                                 \n",
            "=================================================================\n",
            "Total params: 59210572 (225.87 MB)\n",
            "Trainable params: 59210572 (225.87 MB)\n",
            "Non-trainable params: 0 (0.00 Byte)\n",
            "_________________________________________________________________\n"
          ]
        }
      ],
      "source": [
        "# Define your custom CNN architecture\n",
        "model = Sequential()\n",
        "model.add(Conv2D(32, kernel_size=(3, 3), activation='relu', input_shape=(256, 256, 3)))\n",
        "model.add(MaxPooling2D(pool_size=(2, 2)))\n",
        "model.add(Conv2D(64, kernel_size=(3, 3), activation='relu'))\n",
        "model.add(MaxPooling2D(pool_size=(2, 2)))\n",
        "model.add(Conv2D(128, kernel_size=(3, 3), activation='relu'))\n",
        "model.add(MaxPooling2D(pool_size=(2, 2)))\n",
        "model.add(Flatten())\n",
        "model.add(Dense(512, activation='relu'))\n",
        "model.add(Dropout(0.5))\n",
        "model.add(Dense(256, activation='relu'))\n",
        "model.add(Dropout(0.5))\n",
        "model.add(Dense(12, activation='softmax'))  # 12 classes for leaf species\n",
        "\n",
        "model.compile(optimizer='adam', loss='categorical_crossentropy', metrics=['accuracy'])\n",
        "model.summary()"
      ]
    },
    {
      "cell_type": "code",
      "execution_count": 7,
      "metadata": {
        "colab": {
          "base_uri": "https://localhost:8080/"
        },
        "id": "wjMyBcZJ1s1v",
        "outputId": "72225cd7-4767-497a-ee9f-40dc8df100b1"
      },
      "outputs": [
        {
          "output_type": "stream",
          "name": "stdout",
          "text": [
            "Found 3146 images belonging to 12 classes.\n",
            "Found 894 images belonging to 12 classes.\n"
          ]
        }
      ],
      "source": [
        "train_datagen = ImageDataGenerator(featurewise_center=True,\n",
        "                                   rotation_range=0.4,\n",
        "                                   width_shift_range=0.3,\n",
        "                                   horizontal_flip=True,\n",
        "                                   preprocessing_function=preprocess_input,\n",
        "                                   zoom_range=0.4,\n",
        "                                   shear_range=0.4)\n",
        "train_data = train_datagen.flow_from_directory(directory='/content/dataset/dataset/train',\n",
        "                                               target_size=(256, 256),\n",
        "                                               batch_size=36)\n",
        "\n",
        "# Load and preprocess the validation data\n",
        "val_datagen = ImageDataGenerator(featurewise_center=True,\n",
        "                                 preprocessing_function=preprocess_input\n",
        "                                 )\n",
        "val_data = val_datagen.flow_from_directory(directory='/content/dataset/dataset/val',\n",
        "                                           target_size=(256, 256),\n",
        "                                           batch_size=36)"
      ]
    },
    {
      "cell_type": "code",
      "execution_count": 8,
      "metadata": {
        "colab": {
          "base_uri": "https://localhost:8080/"
        },
        "id": "fiMlCBix11jc",
        "outputId": "dc1b5b5e-7b75-4553-9e62-39d49cfc676b"
      },
      "outputs": [
        {
          "output_type": "execute_result",
          "data": {
            "text/plain": [
              "{0: 'Alstonia Scholaris (P2)',\n",
              " 1: 'Arjun (P1)',\n",
              " 2: 'Bael (P4)',\n",
              " 3: 'Basil (P8)',\n",
              " 4: 'Chinar (P11)',\n",
              " 5: 'Gauva (P3)',\n",
              " 6: 'Jamun (P5)',\n",
              " 7: 'Jatropha (P6)',\n",
              " 8: 'Lemon (P10)',\n",
              " 9: 'Mango (P0)',\n",
              " 10: 'Pomegranate (P9)',\n",
              " 11: 'Pongamia Pinnata (P7)'}"
            ]
          },
          "metadata": {},
          "execution_count": 8
        }
      ],
      "source": [
        "train_data.class_indices\n",
        "\n",
        "swapped_dict = {v: k for k, v in train_data.class_indices.items()}\n",
        "swapped_dict"
      ]
    },
    {
      "cell_type": "code",
      "execution_count": 9,
      "metadata": {
        "id": "yQU_nwgS13wR",
        "colab": {
          "base_uri": "https://localhost:8080/"
        },
        "outputId": "fd0d6878-b505-496c-c484-a06c487fa21f"
      },
      "outputs": [
        {
          "output_type": "stream",
          "name": "stderr",
          "text": [
            "/usr/local/lib/python3.10/dist-packages/keras/src/preprocessing/image.py:1862: UserWarning: This ImageDataGenerator specifies `featurewise_center`, but it hasn't been fit on any training data. Fit it first by calling `.fit(numpy_data)`.\n",
            "  warnings.warn(\n"
          ]
        }
      ],
      "source": [
        "t_img,label = train_data.next()"
      ]
    },
    {
      "cell_type": "code",
      "execution_count": 10,
      "metadata": {
        "colab": {
          "base_uri": "https://localhost:8080/"
        },
        "id": "Om9iG8XC15b0",
        "outputId": "e24e1b81-7c6a-4e4f-90a2-3ba365397268"
      },
      "outputs": [
        {
          "output_type": "execute_result",
          "data": {
            "text/plain": [
              "(36, 256, 256, 3)"
            ]
          },
          "metadata": {},
          "execution_count": 10
        }
      ],
      "source": [
        "t_img.shape"
      ]
    },
    {
      "cell_type": "code",
      "execution_count": 11,
      "metadata": {
        "id": "xlf0oPkC167W"
      },
      "outputs": [],
      "source": [
        "def plotImage(img_arr,label):\n",
        "  for idx,img in enumerate (img_arr):\n",
        "      if idx<=10:\n",
        "        plt.figure(figsize=(5,5))\n",
        "        plt.imshow(img)\n",
        "        plt.title(img.shape)\n",
        "        plt.axis=False\n",
        "        plt.show"
      ]
    },
    {
      "cell_type": "code",
      "execution_count": 12,
      "metadata": {
        "id": "aQkrA2Oe1-3l"
      },
      "outputs": [],
      "source": [
        "# plotImage(t_img,label)"
      ]
    },
    {
      "cell_type": "code",
      "execution_count": 13,
      "metadata": {
        "id": "ARKYyJki2AoO"
      },
      "outputs": [],
      "source": [
        "mc = ModelCheckpoint(filepath=\"./best_model.h5\",\n",
        "                     monitor='accuracy',\n",
        "                     verbose=1,\n",
        "                     save_best_only=True)\n",
        "es = EarlyStopping(monitor='accuracy',\n",
        "                   min_delta=0.01,\n",
        "                   patience=10,\n",
        "                   verbose=1)\n",
        "cb = [mc, es]"
      ]
    },
    {
      "cell_type": "code",
      "source": [
        "# Training the model the model\n",
        "his = model.fit_generator(train_data,\n",
        "                          steps_per_epoch=16,\n",
        "                          epochs=60,\n",
        "                          validation_data=val_data,\n",
        "                          validation_steps=16,\n",
        "                          callbacks=cb)"
      ],
      "metadata": {
        "colab": {
          "base_uri": "https://localhost:8080/"
        },
        "id": "L-UF8j1eWfoY",
        "outputId": "b27f739b-c5ad-4ab8-a1e4-1fb9710258d8"
      },
      "execution_count": null,
      "outputs": [
        {
          "metadata": {
            "tags": null
          },
          "name": "stderr",
          "output_type": "stream",
          "text": [
            "<ipython-input-14-2baa0fdfb27f>:2: UserWarning: `Model.fit_generator` is deprecated and will be removed in a future version. Please use `Model.fit`, which supports generators.\n",
            "  his = model.fit_generator(train_data,\n"
          ]
        },
        {
          "metadata": {
            "tags": null
          },
          "name": "stdout",
          "output_type": "stream",
          "text": [
            "Epoch 1/60\n",
            "16/16 [==============================] - ETA: 0s - loss: 2.8399 - accuracy: 0.1625 \n",
            "Epoch 1: accuracy improved from -inf to 0.16245, saving model to ./best_model.h5\n"
          ]
        },
        {
          "metadata": {
            "tags": null
          },
          "name": "stderr",
          "output_type": "stream",
          "text": [
            "/usr/local/lib/python3.10/dist-packages/keras/src/engine/training.py:3103: UserWarning: You are saving your model as an HDF5 file via `model.save()`. This file format is considered legacy. We recommend using instead the native Keras format, e.g. `model.save('my_model.keras')`.\n",
            "  saving_api.save_model(\n"
          ]
        },
        {
          "output_type": "stream",
          "name": "stdout",
          "text": [
            "16/16 [==============================] - 340s 21s/step - loss: 2.8399 - accuracy: 0.1625 - val_loss: 2.3971 - val_accuracy: 0.2135\n",
            "Epoch 2/60\n",
            "16/16 [==============================] - ETA: 0s - loss: 2.2519 - accuracy: 0.2587 \n",
            "Epoch 2: accuracy improved from 0.16245 to 0.25868, saving model to ./best_model.h5\n",
            "16/16 [==============================] - 342s 22s/step - loss: 2.2519 - accuracy: 0.2587 - val_loss: 2.1249 - val_accuracy: 0.2917\n",
            "Epoch 3/60\n",
            "16/16 [==============================] - ETA: 0s - loss: 2.2095 - accuracy: 0.2437 \n",
            "Epoch 3: accuracy did not improve from 0.25868\n",
            "16/16 [==============================] - 333s 22s/step - loss: 2.2095 - accuracy: 0.2437 - val_loss: 2.0231 - val_accuracy: 0.3194\n",
            "Epoch 4/60\n",
            "16/16 [==============================] - ETA: 0s - loss: 2.1061 - accuracy: 0.2622 \n",
            "Epoch 4: accuracy improved from 0.25868 to 0.26215, saving model to ./best_model.h5\n",
            "16/16 [==============================] - 332s 21s/step - loss: 2.1061 - accuracy: 0.2622 - val_loss: 1.9583 - val_accuracy: 0.3212\n",
            "Epoch 5/60\n",
            "16/16 [==============================] - ETA: 0s - loss: 2.1198 - accuracy: 0.2847 \n",
            "Epoch 5: accuracy improved from 0.26215 to 0.28472, saving model to ./best_model.h5\n",
            "16/16 [==============================] - 314s 20s/step - loss: 2.1198 - accuracy: 0.2847 - val_loss: 1.9762 - val_accuracy: 0.3299\n",
            "Epoch 6/60\n",
            "16/16 [==============================] - ETA: 0s - loss: 2.0433 - accuracy: 0.2951 \n",
            "Epoch 6: accuracy improved from 0.28472 to 0.29514, saving model to ./best_model.h5\n",
            "16/16 [==============================] - 326s 21s/step - loss: 2.0433 - accuracy: 0.2951 - val_loss: 1.9401 - val_accuracy: 0.3681\n",
            "Epoch 7/60\n",
            "16/16 [==============================] - ETA: 0s - loss: 2.0133 - accuracy: 0.3194 \n",
            "Epoch 7: accuracy improved from 0.29514 to 0.31944, saving model to ./best_model.h5\n",
            "16/16 [==============================] - 335s 21s/step - loss: 2.0133 - accuracy: 0.3194 - val_loss: 1.8214 - val_accuracy: 0.3472\n",
            "Epoch 8/60\n",
            "16/16 [==============================] - ETA: 0s - loss: 1.9468 - accuracy: 0.3281 \n",
            "Epoch 8: accuracy improved from 0.31944 to 0.32812, saving model to ./best_model.h5\n",
            "16/16 [==============================] - 315s 20s/step - loss: 1.9468 - accuracy: 0.3281 - val_loss: 1.8329 - val_accuracy: 0.3316\n",
            "Epoch 9/60\n",
            "16/16 [==============================] - ETA: 0s - loss: 1.9324 - accuracy: 0.3264 \n",
            "Epoch 9: accuracy did not improve from 0.32812\n",
            "16/16 [==============================] - 308s 19s/step - loss: 1.9324 - accuracy: 0.3264 - val_loss: 1.7483 - val_accuracy: 0.3993\n",
            "Epoch 10/60\n",
            "16/16 [==============================] - ETA: 0s - loss: 1.8057 - accuracy: 0.4062 \n",
            "Epoch 10: accuracy improved from 0.32812 to 0.40625, saving model to ./best_model.h5\n",
            "16/16 [==============================] - 342s 22s/step - loss: 1.8057 - accuracy: 0.4062 - val_loss: 1.6337 - val_accuracy: 0.4149\n",
            "Epoch 11/60\n",
            "16/16 [==============================] - ETA: 0s - loss: 1.9050 - accuracy: 0.3574 \n",
            "Epoch 11: accuracy did not improve from 0.40625\n",
            "16/16 [==============================] - 326s 21s/step - loss: 1.9050 - accuracy: 0.3574 - val_loss: 1.5957 - val_accuracy: 0.4531\n",
            "Epoch 12/60\n",
            "16/16 [==============================] - ETA: 0s - loss: 1.8077 - accuracy: 0.3559 \n",
            "Epoch 12: accuracy did not improve from 0.40625\n",
            "16/16 [==============================] - 345s 22s/step - loss: 1.8077 - accuracy: 0.3559 - val_loss: 1.5985 - val_accuracy: 0.4236\n",
            "Epoch 13/60\n",
            "16/16 [==============================] - ETA: 0s - loss: 1.8561 - accuracy: 0.3611 \n",
            "Epoch 13: accuracy did not improve from 0.40625\n",
            "16/16 [==============================] - 332s 21s/step - loss: 1.8561 - accuracy: 0.3611 - val_loss: 1.5313 - val_accuracy: 0.4271\n",
            "Epoch 14/60\n",
            "16/16 [==============================] - ETA: 0s - loss: 1.7979 - accuracy: 0.3610 \n",
            "Epoch 14: accuracy did not improve from 0.40625\n",
            "16/16 [==============================] - 300s 19s/step - loss: 1.7979 - accuracy: 0.3610 - val_loss: 1.4895 - val_accuracy: 0.4497\n",
            "Epoch 15/60\n",
            "16/16 [==============================] - ETA: 0s - loss: 1.7410 - accuracy: 0.3490 \n",
            "Epoch 15: accuracy did not improve from 0.40625\n",
            "16/16 [==============================] - 340s 22s/step - loss: 1.7410 - accuracy: 0.3490 - val_loss: 1.4318 - val_accuracy: 0.5191\n",
            "Epoch 16/60\n",
            "16/16 [==============================] - ETA: 0s - loss: 1.6348 - accuracy: 0.4332 \n",
            "Epoch 16: accuracy improved from 0.40625 to 0.43321, saving model to ./best_model.h5\n",
            "16/16 [==============================] - 346s 22s/step - loss: 1.6348 - accuracy: 0.4332 - val_loss: 1.3996 - val_accuracy: 0.5417\n",
            "Epoch 17/60\n",
            "16/16 [==============================] - ETA: 0s - loss: 1.6339 - accuracy: 0.4340 \n",
            "Epoch 17: accuracy improved from 0.43321 to 0.43403, saving model to ./best_model.h5\n",
            "16/16 [==============================] - 329s 21s/step - loss: 1.6339 - accuracy: 0.4340 - val_loss: 1.3354 - val_accuracy: 0.5191\n",
            "Epoch 18/60\n",
            "16/16 [==============================] - ETA: 0s - loss: 1.6250 - accuracy: 0.4427 \n",
            "Epoch 18: accuracy improved from 0.43403 to 0.44271, saving model to ./best_model.h5\n",
            "16/16 [==============================] - 335s 21s/step - loss: 1.6250 - accuracy: 0.4427 - val_loss: 1.4774 - val_accuracy: 0.5052\n",
            "Epoch 19/60\n",
            "16/16 [==============================] - ETA: 0s - loss: 1.5501 - accuracy: 0.4288 \n",
            "Epoch 19: accuracy did not improve from 0.44271\n",
            "16/16 [==============================] - 336s 21s/step - loss: 1.5501 - accuracy: 0.4288 - val_loss: 1.2963 - val_accuracy: 0.5868\n",
            "Epoch 20/60\n",
            "16/16 [==============================] - ETA: 0s - loss: 1.5009 - accuracy: 0.4913 \n",
            "Epoch 20: accuracy improved from 0.44271 to 0.49132, saving model to ./best_model.h5\n",
            "16/16 [==============================] - 339s 21s/step - loss: 1.5009 - accuracy: 0.4913 - val_loss: 1.3251 - val_accuracy: 0.5556\n",
            "Epoch 21/60\n",
            "16/16 [==============================] - ETA: 0s - loss: 1.5063 - accuracy: 0.4618 \n",
            "Epoch 21: accuracy did not improve from 0.49132\n",
            "16/16 [==============================] - 332s 21s/step - loss: 1.5063 - accuracy: 0.4618 - val_loss: 1.2296 - val_accuracy: 0.6128\n",
            "Epoch 22/60\n",
            "16/16 [==============================] - ETA: 0s - loss: 1.3772 - accuracy: 0.4948 \n",
            "Epoch 22: accuracy improved from 0.49132 to 0.49479, saving model to ./best_model.h5\n",
            "16/16 [==============================] - 338s 21s/step - loss: 1.3772 - accuracy: 0.4948 - val_loss: 1.2428 - val_accuracy: 0.5990\n",
            "Epoch 23/60\n",
            "16/16 [==============================] - ETA: 0s - loss: 1.5089 - accuracy: 0.4878 \n",
            "Epoch 23: accuracy did not improve from 0.49479\n",
            "16/16 [==============================] - 334s 21s/step - loss: 1.5089 - accuracy: 0.4878 - val_loss: 1.2140 - val_accuracy: 0.5885\n",
            "Epoch 24/60\n",
            "16/16 [==============================] - ETA: 0s - loss: 1.4142 - accuracy: 0.5122 \n",
            "Epoch 24: accuracy improved from 0.49479 to 0.51215, saving model to ./best_model.h5\n",
            "16/16 [==============================] - 354s 23s/step - loss: 1.4142 - accuracy: 0.5122 - val_loss: 1.0763 - val_accuracy: 0.6094\n",
            "Epoch 25/60\n",
            "16/16 [==============================] - ETA: 0s - loss: 1.3435 - accuracy: 0.5271 \n",
            "Epoch 25: accuracy improved from 0.51215 to 0.52708, saving model to ./best_model.h5\n",
            "16/16 [==============================] - 346s 22s/step - loss: 1.3435 - accuracy: 0.5271 - val_loss: 1.0741 - val_accuracy: 0.6858\n",
            "Epoch 26/60\n",
            "16/16 [==============================] - ETA: 0s - loss: 1.3134 - accuracy: 0.5174 \n",
            "Epoch 26: accuracy did not improve from 0.52708\n",
            "16/16 [==============================] - 339s 21s/step - loss: 1.3134 - accuracy: 0.5174 - val_loss: 0.9366 - val_accuracy: 0.7049\n",
            "Epoch 27/60\n",
            "16/16 [==============================] - ETA: 0s - loss: 1.2696 - accuracy: 0.5677 \n",
            "Epoch 27: accuracy improved from 0.52708 to 0.56771, saving model to ./best_model.h5\n",
            "16/16 [==============================] - 323s 20s/step - loss: 1.2696 - accuracy: 0.5677 - val_loss: 0.9376 - val_accuracy: 0.7101\n",
            "Epoch 28/60\n",
            "16/16 [==============================] - ETA: 0s - loss: 1.2174 - accuracy: 0.5903 \n",
            "Epoch 28: accuracy improved from 0.56771 to 0.59028, saving model to ./best_model.h5\n",
            "16/16 [==============================] - 349s 22s/step - loss: 1.2174 - accuracy: 0.5903 - val_loss: 1.1816 - val_accuracy: 0.5660\n",
            "Epoch 29/60\n",
            " 6/16 [==========>...................] - ETA: 1:57 - loss: 1.4005 - accuracy: 0.4907"
          ]
        }
      ]
    },
    {
      "cell_type": "code",
      "execution_count": null,
      "metadata": {
        "id": "-Wax99DV2ESr"
      },
      "outputs": [],
      "source": [
        "h = his.history\n",
        "h.keys()"
      ]
    },
    {
      "cell_type": "code",
      "source": [
        "plt.plot(h['loss'], 'go--', label='Loss')\n",
        "plt.plot(h['accuracy'], 'go--', color='blue', label='Accuracy')\n",
        "plt.title(\"Loss and Accuracy Over Time\")\n",
        "plt.xlabel(\"Epoch\")\n",
        "plt.ylabel(\"Value\")\n",
        "plt.legend()\n",
        "plt.show()"
      ],
      "metadata": {
        "id": "uC66Kx9IXOJ1"
      },
      "execution_count": null,
      "outputs": []
    },
    {
      "cell_type": "code",
      "source": [
        "plt.plot(h['val_loss'], 'go--', label='val_Loss')\n",
        "plt.plot(h['val_accuracy'], 'go--', color='blue', label='val_Accuracy')\n",
        "plt.title(\" val_Loss and val_Accuracy Over Time\")\n",
        "plt.xlabel(\"Epoch\")\n",
        "plt.ylabel(\"Value\")\n",
        "plt.legend()\n",
        "plt.show()"
      ],
      "metadata": {
        "id": "JEgsOu3z5ltz"
      },
      "execution_count": null,
      "outputs": []
    },
    {
      "cell_type": "code",
      "source": [
        "from keras.models import load_model\n",
        "model = load_model(\"/content/best_model.h5\")"
      ],
      "metadata": {
        "id": "npTAF_rx5nVb"
      },
      "execution_count": null,
      "outputs": []
    },
    {
      "cell_type": "markdown",
      "source": [
        "**Test Sample 1**\n"
      ],
      "metadata": {
        "id": "1ELPwXWQQnUb"
      }
    },
    {
      "cell_type": "code",
      "source": [
        "path = \"/content/dataset/dataset/train/Mango (P0)/0001_0008.JPG\"\n",
        "img = load_img(path,target_size = (256,256))\n",
        "i = img_to_array(img)\n",
        "im = preprocess_input(i)\n",
        "img = np.expand_dims(im,axis=0)\n",
        "pred =np.argmax( model.predict(img))\n",
        "print(\"The Image Belong to: \",swapped_dict[pred])"
      ],
      "metadata": {
        "id": "t4gPROEAWDvN"
      },
      "execution_count": null,
      "outputs": []
    },
    {
      "cell_type": "code",
      "source": [],
      "metadata": {
        "id": "n9APrUYpQdWb"
      },
      "execution_count": null,
      "outputs": []
    },
    {
      "cell_type": "markdown",
      "source": [
        "**Test Sample 2**"
      ],
      "metadata": {
        "id": "TowEbnmZQeFj"
      }
    },
    {
      "cell_type": "code",
      "source": [
        "path = \"/content/dataset/dataset/test/Jamun (P5)/0005_0072.JPG\"\n",
        "img = load_img(path,target_size = (256,256))\n",
        "i = img_to_array(img)\n",
        "im = preprocess_input(i)\n",
        "img = np.expand_dims(im,axis=0)\n",
        "pred =np.argmax( model.predict(img))\n",
        "print(\"The Image Belong to: \",swapped_dict[pred])"
      ],
      "metadata": {
        "id": "nlf8UXZuP79_"
      },
      "execution_count": null,
      "outputs": []
    },
    {
      "cell_type": "code",
      "source": [],
      "metadata": {
        "id": "BQ26WSg6QJkz"
      },
      "execution_count": null,
      "outputs": []
    }
  ],
  "metadata": {
    "accelerator": "TPU",
    "colab": {
      "provenance": [],
      "include_colab_link": true
    },
    "kernelspec": {
      "display_name": "Python 3",
      "name": "python3"
    },
    "language_info": {
      "name": "python"
    }
  },
  "nbformat": 4,
  "nbformat_minor": 0
}