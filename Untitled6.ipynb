{
  "cells": [
    {
      "cell_type": "markdown",
      "metadata": {
        "id": "view-in-github",
        "colab_type": "text"
      },
      "source": [
        "<a href=\"https://colab.research.google.com/github/sks9699/Api/blob/master/Untitled6.ipynb\" target=\"_parent\"><img src=\"https://colab.research.google.com/assets/colab-badge.svg\" alt=\"Open In Colab\"/></a>"
      ]
    },
    {
      "cell_type": "code",
      "execution_count": null,
      "metadata": {
        "id": "hPn6dywFzFV7",
        "colab": {
          "base_uri": "https://localhost:8080/"
        },
        "outputId": "a1a33aa6-46d4-48bd-db69-3195e32f8a8b"
      },
      "outputs": [
        {
          "output_type": "stream",
          "name": "stdout",
          "text": [
            "mkdir: cannot create directory ‘~p’: File exists\n",
            "mkdir: cannot create directory ‘/root/.kaggle’: File exists\n"
          ]
        }
      ],
      "source": [
        "!mkdir ~p ~/.kaggle\n",
        "!cp kaggle.json ~/.kaggle/"
      ]
    },
    {
      "cell_type": "code",
      "execution_count": null,
      "metadata": {
        "colab": {
          "base_uri": "https://localhost:8080/"
        },
        "id": "wKWQwcAjzRxS",
        "outputId": "435de8a3-425c-4466-fe78-71df07fbdf1f"
      },
      "outputs": [
        {
          "output_type": "stream",
          "name": "stdout",
          "text": [
            "Warning: Your Kaggle API key is readable by other users on this system! To fix this, you can run 'chmod 600 /root/.kaggle/kaggle.json'\n",
            "leaf-class.zip: Skipping, found more recently modified local copy (use --force to force download)\n"
          ]
        }
      ],
      "source": [
        "!kaggle datasets download -d sks9699/leaf-class"
      ]
    },
    {
      "cell_type": "code",
      "execution_count": null,
      "metadata": {
        "id": "Nsa50PugzTP1"
      },
      "outputs": [],
      "source": [
        "import zipfile\n",
        "zip_ref = zipfile.ZipFile('/content/leaf-class.zip','r')\n",
        "zip_ref.extractall('/content/dataset')\n",
        "zip_ref.close()"
      ]
    },
    {
      "cell_type": "code",
      "execution_count": null,
      "metadata": {
        "id": "ETb6l5pgzvIq"
      },
      "outputs": [],
      "source": [
        "# TRAIN_DIR = \"./DATABASE\"\n",
        "ORG_DIR = \"/content/dataset/dataset/train\"\n",
        "CLASS = ['Alstonia Scholaris',\n",
        "         'Arjun',\n",
        "         'Bael',\n",
        "         'Basil',\n",
        "         'Chinar',\n",
        "         'Gauva',\n",
        "         'Jamun',\n",
        "         'Jatropha',\n",
        "         'Lemon',\n",
        "         'Mango',\n",
        "         'Pomegranate',\n",
        "         'Pongamia Pinnata']"
      ]
    },
    {
      "cell_type": "code",
      "execution_count": null,
      "metadata": {
        "id": "VXiNwqv11Ji2"
      },
      "outputs": [],
      "source": [
        "import os\n",
        "from keras.applications.xception  import preprocess_input\n",
        "\n",
        "import numpy as np\n",
        "import matplotlib.pyplot as plt\n",
        "from keras.layers import Conv2D, MaxPooling2D, Flatten, Dense, Dropout\n",
        "from keras.models import Sequential\n",
        "from keras.preprocessing.image import ImageDataGenerator, load_img, img_to_array\n",
        "from keras.callbacks import ModelCheckpoint, EarlyStopping"
      ]
    },
    {
      "cell_type": "code",
      "execution_count": null,
      "metadata": {
        "colab": {
          "base_uri": "https://localhost:8080/"
        },
        "id": "DRC92e6P1gsF",
        "outputId": "0290c46b-fbc8-4830-99b5-05ca46144279"
      },
      "outputs": [
        {
          "output_type": "stream",
          "name": "stdout",
          "text": [
            "Model: \"sequential\"\n",
            "_________________________________________________________________\n",
            " Layer (type)                Output Shape              Param #   \n",
            "=================================================================\n",
            " conv2d (Conv2D)             (None, 254, 254, 32)      896       \n",
            "                                                                 \n",
            " max_pooling2d (MaxPooling2  (None, 127, 127, 32)      0         \n",
            " D)                                                              \n",
            "                                                                 \n",
            " conv2d_1 (Conv2D)           (None, 125, 125, 64)      18496     \n",
            "                                                                 \n",
            " max_pooling2d_1 (MaxPoolin  (None, 62, 62, 64)        0         \n",
            " g2D)                                                            \n",
            "                                                                 \n",
            " conv2d_2 (Conv2D)           (None, 60, 60, 128)       73856     \n",
            "                                                                 \n",
            " max_pooling2d_2 (MaxPoolin  (None, 30, 30, 128)       0         \n",
            " g2D)                                                            \n",
            "                                                                 \n",
            " flatten (Flatten)           (None, 115200)            0         \n",
            "                                                                 \n",
            " dense (Dense)               (None, 512)               58982912  \n",
            "                                                                 \n",
            " dropout (Dropout)           (None, 512)               0         \n",
            "                                                                 \n",
            " dense_1 (Dense)             (None, 256)               131328    \n",
            "                                                                 \n",
            " dropout_1 (Dropout)         (None, 256)               0         \n",
            "                                                                 \n",
            " dense_2 (Dense)             (None, 12)                3084      \n",
            "                                                                 \n",
            "=================================================================\n",
            "Total params: 59210572 (225.87 MB)\n",
            "Trainable params: 59210572 (225.87 MB)\n",
            "Non-trainable params: 0 (0.00 Byte)\n",
            "_________________________________________________________________\n"
          ]
        }
      ],
      "source": [
        "# Define your custom CNN architecture\n",
        "model = Sequential()\n",
        "model.add(Conv2D(32, kernel_size=(3, 3), activation='relu', input_shape=(256, 256, 3)))\n",
        "model.add(MaxPooling2D(pool_size=(2, 2)))\n",
        "model.add(Conv2D(64, kernel_size=(3, 3), activation='relu'))\n",
        "model.add(MaxPooling2D(pool_size=(2, 2)))\n",
        "model.add(Conv2D(128, kernel_size=(3, 3), activation='relu'))\n",
        "model.add(MaxPooling2D(pool_size=(2, 2)))\n",
        "model.add(Flatten())\n",
        "model.add(Dense(512, activation='relu'))\n",
        "model.add(Dropout(0.5))\n",
        "model.add(Dense(256, activation='relu'))\n",
        "model.add(Dropout(0.5))\n",
        "model.add(Dense(12, activation='softmax'))  # 12 classes for leaf species\n",
        "\n",
        "model.compile(optimizer='adam', loss='categorical_crossentropy', metrics=['accuracy'])\n",
        "model.summary()"
      ]
    },
    {
      "cell_type": "code",
      "execution_count": null,
      "metadata": {
        "colab": {
          "base_uri": "https://localhost:8080/"
        },
        "id": "wjMyBcZJ1s1v",
        "outputId": "72225cd7-4767-497a-ee9f-40dc8df100b1"
      },
      "outputs": [
        {
          "output_type": "stream",
          "name": "stdout",
          "text": [
            "Found 3146 images belonging to 12 classes.\n",
            "Found 894 images belonging to 12 classes.\n"
          ]
        }
      ],
      "source": [
        "train_datagen = ImageDataGenerator(featurewise_center=True,\n",
        "                                   rotation_range=0.4,\n",
        "                                   width_shift_range=0.3,\n",
        "                                   horizontal_flip=True,\n",
        "                                   preprocessing_function=preprocess_input,\n",
        "                                   zoom_range=0.4,\n",
        "                                   shear_range=0.4)\n",
        "train_data = train_datagen.flow_from_directory(directory='/content/dataset/dataset/train',\n",
        "                                               target_size=(256, 256),\n",
        "                                               batch_size=36)\n",
        "\n",
        "# Load and preprocess the validation data\n",
        "val_datagen = ImageDataGenerator(featurewise_center=True,\n",
        "                                 preprocessing_function=preprocess_input\n",
        "                                 )\n",
        "val_data = val_datagen.flow_from_directory(directory='/content/dataset/dataset/val',\n",
        "                                           target_size=(256, 256),\n",
        "                                           batch_size=36)"
      ]
    },
    {
      "cell_type": "code",
      "execution_count": null,
      "metadata": {
        "colab": {
          "base_uri": "https://localhost:8080/"
        },
        "id": "fiMlCBix11jc",
        "outputId": "dc1b5b5e-7b75-4553-9e62-39d49cfc676b"
      },
      "outputs": [
        {
          "output_type": "execute_result",
          "data": {
            "text/plain": [
              "{0: 'Alstonia Scholaris (P2)',\n",
              " 1: 'Arjun (P1)',\n",
              " 2: 'Bael (P4)',\n",
              " 3: 'Basil (P8)',\n",
              " 4: 'Chinar (P11)',\n",
              " 5: 'Gauva (P3)',\n",
              " 6: 'Jamun (P5)',\n",
              " 7: 'Jatropha (P6)',\n",
              " 8: 'Lemon (P10)',\n",
              " 9: 'Mango (P0)',\n",
              " 10: 'Pomegranate (P9)',\n",
              " 11: 'Pongamia Pinnata (P7)'}"
            ]
          },
          "metadata": {},
          "execution_count": 8
        }
      ],
      "source": [
        "train_data.class_indices\n",
        "\n",
        "swapped_dict = {v: k for k, v in train_data.class_indices.items()}\n",
        "swapped_dict"
      ]
    },
    {
      "cell_type": "code",
      "execution_count": null,
      "metadata": {
        "id": "yQU_nwgS13wR",
        "outputId": "fd0d6878-b505-496c-c484-a06c487fa21f",
        "colab": {
          "base_uri": "https://localhost:8080/"
        }
      },
      "outputs": [
        {
          "output_type": "stream",
          "name": "stderr",
          "text": [
            "/usr/local/lib/python3.10/dist-packages/keras/src/preprocessing/image.py:1862: UserWarning: This ImageDataGenerator specifies `featurewise_center`, but it hasn't been fit on any training data. Fit it first by calling `.fit(numpy_data)`.\n",
            "  warnings.warn(\n"
          ]
        }
      ],
      "source": [
        "t_img,label = train_data.next()"
      ]
    },
    {
      "cell_type": "code",
      "execution_count": null,
      "metadata": {
        "colab": {
          "base_uri": "https://localhost:8080/"
        },
        "id": "Om9iG8XC15b0",
        "outputId": "e24e1b81-7c6a-4e4f-90a2-3ba365397268"
      },
      "outputs": [
        {
          "output_type": "execute_result",
          "data": {
            "text/plain": [
              "(36, 256, 256, 3)"
            ]
          },
          "metadata": {},
          "execution_count": 10
        }
      ],
      "source": [
        "t_img.shape"
      ]
    },
    {
      "cell_type": "code",
      "execution_count": null,
      "metadata": {
        "id": "xlf0oPkC167W"
      },
      "outputs": [],
      "source": [
        "def plotImage(img_arr,label):\n",
        "  for idx,img in enumerate (img_arr):\n",
        "      if idx<=10:\n",
        "        plt.figure(figsize=(5,5))\n",
        "        plt.imshow(img)\n",
        "        plt.title(img.shape)\n",
        "        plt.axis=False\n",
        "        plt.show"
      ]
    },
    {
      "cell_type": "code",
      "execution_count": null,
      "metadata": {
        "id": "aQkrA2Oe1-3l"
      },
      "outputs": [],
      "source": [
        "# plotImage(t_img,label)"
      ]
    },
    {
      "cell_type": "code",
      "execution_count": null,
      "metadata": {
        "id": "ARKYyJki2AoO"
      },
      "outputs": [],
      "source": [
        "mc = ModelCheckpoint(filepath=\"./best_model.h5\",\n",
        "                     monitor='accuracy',\n",
        "                     verbose=1,\n",
        "                     save_best_only=True)\n",
        "es = EarlyStopping(monitor='accuracy',\n",
        "                   min_delta=0.01,\n",
        "                   patience=10,\n",
        "                   verbose=1)\n",
        "cb = [mc, es]"
      ]
    },
    {
      "cell_type": "code",
      "source": [
        "# Training the model the model\n",
        "his = model.fit_generator(train_data,\n",
        "                          steps_per_epoch=16,\n",
        "                          epochs=60,\n",
        "                          validation_data=val_data,\n",
        "                          validation_steps=16,\n",
        "                          callbacks=cb)"
      ],
      "metadata": {
        "id": "L-UF8j1eWfoY",
        "outputId": "676f1050-0e66-4706-b0b0-66b22d7a7aa4",
        "colab": {
          "base_uri": "https://localhost:8080/"
        }
      },
      "execution_count": null,
      "outputs": [
        {
          "metadata": {
            "tags": null
          },
          "name": "stderr",
          "output_type": "stream",
          "text": [
            "<ipython-input-16-2baa0fdfb27f>:2: UserWarning: `Model.fit_generator` is deprecated and will be removed in a future version. Please use `Model.fit`, which supports generators.\n",
            "  his = model.fit_generator(train_data,\n"
          ]
        },
        {
          "metadata": {
            "tags": null
          },
          "name": "stdout",
          "output_type": "stream",
          "text": [
            "Epoch 1/60\n",
            "16/16 [==============================] - ETA: 0s - loss: 3.1057 - accuracy: 0.1597 \n",
            "Epoch 1: accuracy improved from -inf to 0.15972, saving model to ./best_model.h5\n"
          ]
        },
        {
          "metadata": {
            "tags": null
          },
          "name": "stderr",
          "output_type": "stream",
          "text": [
            "/usr/local/lib/python3.10/dist-packages/keras/src/engine/training.py:3103: UserWarning: You are saving your model as an HDF5 file via `model.save()`. This file format is considered legacy. We recommend using instead the native Keras format, e.g. `model.save('my_model.keras')`.\n",
            "  saving_api.save_model(\n"
          ]
        },
        {
          "output_type": "stream",
          "name": "stdout",
          "text": [
            "16/16 [==============================] - 304s 19s/step - loss: 3.1057 - accuracy: 0.1597 - val_loss: 2.2654 - val_accuracy: 0.2135\n",
            "Epoch 2/60\n",
            "16/16 [==============================] - ETA: 0s - loss: 2.2813 - accuracy: 0.2240 \n",
            "Epoch 2: accuracy improved from 0.15972 to 0.22396, saving model to ./best_model.h5\n",
            "16/16 [==============================] - 329s 21s/step - loss: 2.2813 - accuracy: 0.2240 - val_loss: 2.0714 - val_accuracy: 0.3038\n",
            "Epoch 3/60\n",
            "16/16 [==============================] - ETA: 0s - loss: 2.2274 - accuracy: 0.2344 \n",
            "Epoch 3: accuracy improved from 0.22396 to 0.23438, saving model to ./best_model.h5\n",
            "16/16 [==============================] - 297s 19s/step - loss: 2.2274 - accuracy: 0.2344 - val_loss: 2.0512 - val_accuracy: 0.2622\n",
            "Epoch 4/60\n",
            "16/16 [==============================] - ETA: 0s - loss: 2.1865 - accuracy: 0.2778 \n",
            "Epoch 4: accuracy improved from 0.23438 to 0.27778, saving model to ./best_model.h5\n",
            "16/16 [==============================] - 331s 21s/step - loss: 2.1865 - accuracy: 0.2778 - val_loss: 2.0606 - val_accuracy: 0.2760\n",
            "Epoch 5/60\n",
            "16/16 [==============================] - ETA: 0s - loss: 2.1039 - accuracy: 0.2587 \n",
            "Epoch 5: accuracy did not improve from 0.27778\n",
            "16/16 [==============================] - 325s 21s/step - loss: 2.1039 - accuracy: 0.2587 - val_loss: 1.9892 - val_accuracy: 0.2899\n",
            "Epoch 6/60\n",
            "16/16 [==============================] - ETA: 0s - loss: 2.0261 - accuracy: 0.2816 \n",
            "Epoch 6: accuracy improved from 0.27778 to 0.28159, saving model to ./best_model.h5\n",
            "16/16 [==============================] - 318s 20s/step - loss: 2.0261 - accuracy: 0.2816 - val_loss: 1.9069 - val_accuracy: 0.3299\n",
            "Epoch 7/60\n",
            "16/16 [==============================] - ETA: 0s - loss: 2.0807 - accuracy: 0.3229 \n",
            "Epoch 7: accuracy improved from 0.28159 to 0.32292, saving model to ./best_model.h5\n",
            "16/16 [==============================] - 295s 19s/step - loss: 2.0807 - accuracy: 0.3229 - val_loss: 1.9456 - val_accuracy: 0.3056\n",
            "Epoch 8/60\n",
            "16/16 [==============================] - ETA: 0s - loss: 2.0302 - accuracy: 0.3229 \n",
            "Epoch 8: accuracy did not improve from 0.32292\n",
            "16/16 [==============================] - 287s 18s/step - loss: 2.0302 - accuracy: 0.3229 - val_loss: 1.8471 - val_accuracy: 0.3351\n",
            "Epoch 9/60\n",
            "16/16 [==============================] - ETA: 0s - loss: 1.9841 - accuracy: 0.2882 \n",
            "Epoch 9: accuracy did not improve from 0.32292\n",
            "16/16 [==============================] - 332s 21s/step - loss: 1.9841 - accuracy: 0.2882 - val_loss: 1.7768 - val_accuracy: 0.4149\n",
            "Epoch 10/60\n",
            "16/16 [==============================] - ETA: 0s - loss: 1.9158 - accuracy: 0.3264 \n",
            "Epoch 10: accuracy improved from 0.32292 to 0.32639, saving model to ./best_model.h5\n",
            "16/16 [==============================] - 326s 21s/step - loss: 1.9158 - accuracy: 0.3264 - val_loss: 1.7149 - val_accuracy: 0.3854\n",
            "Epoch 11/60\n",
            "16/16 [==============================] - ETA: 0s - loss: 1.9384 - accuracy: 0.3194 \n",
            "Epoch 11: accuracy did not improve from 0.32639\n",
            "16/16 [==============================] - 323s 20s/step - loss: 1.9384 - accuracy: 0.3194 - val_loss: 1.6795 - val_accuracy: 0.3889\n",
            "Epoch 12/60\n",
            "16/16 [==============================] - ETA: 0s - loss: 1.8786 - accuracy: 0.3333 \n",
            "Epoch 12: accuracy improved from 0.32639 to 0.33333, saving model to ./best_model.h5\n",
            "16/16 [==============================] - 331s 21s/step - loss: 1.8786 - accuracy: 0.3333 - val_loss: 1.6441 - val_accuracy: 0.4132\n",
            "Epoch 13/60\n",
            "16/16 [==============================] - ETA: 0s - loss: 1.7944 - accuracy: 0.3542 \n",
            "Epoch 13: accuracy improved from 0.33333 to 0.35417, saving model to ./best_model.h5\n",
            "16/16 [==============================] - 297s 19s/step - loss: 1.7944 - accuracy: 0.3542 - val_loss: 1.8977 - val_accuracy: 0.3628\n",
            "Epoch 14/60\n",
            "16/16 [==============================] - ETA: 0s - loss: 1.8291 - accuracy: 0.3403 \n",
            "Epoch 14: accuracy did not improve from 0.35417\n",
            "16/16 [==============================] - 309s 20s/step - loss: 1.8291 - accuracy: 0.3403 - val_loss: 1.5707 - val_accuracy: 0.4323\n",
            "Epoch 15/60\n",
            "16/16 [==============================] - ETA: 0s - loss: 1.7158 - accuracy: 0.3941 \n",
            "Epoch 15: accuracy improved from 0.35417 to 0.39410, saving model to ./best_model.h5\n",
            "16/16 [==============================] - 323s 20s/step - loss: 1.7158 - accuracy: 0.3941 - val_loss: 1.5730 - val_accuracy: 0.4549\n",
            "Epoch 16/60\n",
            "16/16 [==============================] - ETA: 0s - loss: 1.7565 - accuracy: 0.3438 \n",
            "Epoch 16: accuracy did not improve from 0.39410\n",
            "16/16 [==============================] - 310s 20s/step - loss: 1.7565 - accuracy: 0.3438 - val_loss: 1.5777 - val_accuracy: 0.4740\n",
            "Epoch 17/60\n",
            "16/16 [==============================] - ETA: 0s - loss: 1.7652 - accuracy: 0.3889 \n",
            "Epoch 17: accuracy did not improve from 0.39410\n",
            "16/16 [==============================] - 311s 20s/step - loss: 1.7652 - accuracy: 0.3889 - val_loss: 1.4626 - val_accuracy: 0.5017\n",
            "Epoch 18/60\n",
            "16/16 [==============================] - ETA: 0s - loss: 1.6772 - accuracy: 0.4080 \n",
            "Epoch 18: accuracy improved from 0.39410 to 0.40799, saving model to ./best_model.h5\n",
            "16/16 [==============================] - 332s 21s/step - loss: 1.6772 - accuracy: 0.4080 - val_loss: 1.3899 - val_accuracy: 0.5260\n",
            "Epoch 19/60\n",
            "16/16 [==============================] - ETA: 0s - loss: 1.6716 - accuracy: 0.4149 \n",
            "Epoch 19: accuracy improved from 0.40799 to 0.41493, saving model to ./best_model.h5\n",
            "16/16 [==============================] - 319s 20s/step - loss: 1.6716 - accuracy: 0.4149 - val_loss: 1.4572 - val_accuracy: 0.5035\n",
            "Epoch 20/60\n",
            "16/16 [==============================] - ETA: 0s - loss: 1.5891 - accuracy: 0.4621 \n",
            "Epoch 20: accuracy improved from 0.41493 to 0.46209, saving model to ./best_model.h5\n",
            "16/16 [==============================] - 326s 21s/step - loss: 1.5891 - accuracy: 0.4621 - val_loss: 1.2571 - val_accuracy: 0.5590\n",
            "Epoch 21/60\n",
            "16/16 [==============================] - ETA: 0s - loss: 1.5410 - accuracy: 0.4635 \n",
            "Epoch 21: accuracy improved from 0.46209 to 0.46354, saving model to ./best_model.h5\n",
            "16/16 [==============================] - 330s 21s/step - loss: 1.5410 - accuracy: 0.4635 - val_loss: 1.3257 - val_accuracy: 0.5434\n",
            "Epoch 22/60\n",
            "16/16 [==============================] - ETA: 0s - loss: 1.6928 - accuracy: 0.4116 \n",
            "Epoch 22: accuracy did not improve from 0.46354\n",
            "16/16 [==============================] - 319s 20s/step - loss: 1.6928 - accuracy: 0.4116 - val_loss: 1.4728 - val_accuracy: 0.5278\n",
            "Epoch 23/60\n",
            "16/16 [==============================] - ETA: 0s - loss: 1.6954 - accuracy: 0.3819 \n",
            "Epoch 23: accuracy did not improve from 0.46354\n",
            "16/16 [==============================] - 320s 20s/step - loss: 1.6954 - accuracy: 0.3819 - val_loss: 1.4071 - val_accuracy: 0.4983\n",
            "Epoch 24/60\n",
            "16/16 [==============================] - ETA: 0s - loss: 1.4639 - accuracy: 0.4601 \n",
            "Epoch 24: accuracy did not improve from 0.46354\n",
            "16/16 [==============================] - 325s 21s/step - loss: 1.4639 - accuracy: 0.4601 - val_loss: 1.3302 - val_accuracy: 0.5122\n",
            "Epoch 25/60\n",
            "16/16 [==============================] - ETA: 0s - loss: 1.5964 - accuracy: 0.4444 \n",
            "Epoch 25: accuracy did not improve from 0.46354\n",
            "16/16 [==============================] - 310s 20s/step - loss: 1.5964 - accuracy: 0.4444 - val_loss: 1.4092 - val_accuracy: 0.4965\n",
            "Epoch 26/60\n",
            "16/16 [==============================] - ETA: 0s - loss: 1.4826 - accuracy: 0.4479 \n",
            "Epoch 26: accuracy did not improve from 0.46354\n",
            "16/16 [==============================] - 291s 18s/step - loss: 1.4826 - accuracy: 0.4479 - val_loss: 1.1270 - val_accuracy: 0.6076\n",
            "Epoch 27/60\n",
            "16/16 [==============================] - ETA: 0s - loss: 1.5537 - accuracy: 0.4809 \n",
            "Epoch 27: accuracy improved from 0.46354 to 0.48090, saving model to ./best_model.h5\n",
            "16/16 [==============================] - 317s 20s/step - loss: 1.5537 - accuracy: 0.4809 - val_loss: 1.2649 - val_accuracy: 0.5608\n",
            "Epoch 28/60\n",
            "16/16 [==============================] - ETA: 0s - loss: 1.4793 - accuracy: 0.4913 \n",
            "Epoch 28: accuracy improved from 0.48090 to 0.49132, saving model to ./best_model.h5\n",
            "16/16 [==============================] - 291s 18s/step - loss: 1.4793 - accuracy: 0.4913 - val_loss: 1.1803 - val_accuracy: 0.5694\n",
            "Epoch 29/60\n",
            "16/16 [==============================] - ETA: 0s - loss: 1.4480 - accuracy: 0.5243 \n",
            "Epoch 29: accuracy improved from 0.49132 to 0.52431, saving model to ./best_model.h5\n",
            "16/16 [==============================] - 320s 20s/step - loss: 1.4480 - accuracy: 0.5243 - val_loss: 1.0936 - val_accuracy: 0.5764\n",
            "Epoch 30/60\n",
            "16/16 [==============================] - ETA: 0s - loss: 1.4300 - accuracy: 0.5035 \n",
            "Epoch 30: accuracy did not improve from 0.52431\n",
            "16/16 [==============================] - 310s 20s/step - loss: 1.4300 - accuracy: 0.5035 - val_loss: 1.2838 - val_accuracy: 0.5608\n",
            "Epoch 31/60\n",
            "16/16 [==============================] - ETA: 0s - loss: 1.4161 - accuracy: 0.5087 \n",
            "Epoch 31: accuracy did not improve from 0.52431\n",
            "16/16 [==============================] - 308s 20s/step - loss: 1.4161 - accuracy: 0.5087 - val_loss: 1.0976 - val_accuracy: 0.6146\n",
            "Epoch 32/60\n",
            "16/16 [==============================] - ETA: 0s - loss: 1.3494 - accuracy: 0.5122 \n",
            "Epoch 32: accuracy did not improve from 0.52431\n",
            "16/16 [==============================] - 312s 20s/step - loss: 1.3494 - accuracy: 0.5122 - val_loss: 1.0290 - val_accuracy: 0.6406\n",
            "Epoch 33/60\n",
            "16/16 [==============================] - ETA: 0s - loss: 1.3973 - accuracy: 0.4983 \n",
            "Epoch 33: accuracy did not improve from 0.52431\n",
            "16/16 [==============================] - 317s 20s/step - loss: 1.3973 - accuracy: 0.4983 - val_loss: 1.1002 - val_accuracy: 0.6302\n",
            "Epoch 34/60\n",
            "16/16 [==============================] - ETA: 0s - loss: 1.2369 - accuracy: 0.5740 \n",
            "Epoch 34: accuracy improved from 0.52431 to 0.57401, saving model to ./best_model.h5\n",
            "16/16 [==============================] - 312s 20s/step - loss: 1.2369 - accuracy: 0.5740 - val_loss: 0.9933 - val_accuracy: 0.6649\n",
            "Epoch 35/60\n",
            "16/16 [==============================] - ETA: 0s - loss: 1.3098 - accuracy: 0.5260 \n",
            "Epoch 35: accuracy did not improve from 0.57401\n",
            "16/16 [==============================] - 309s 20s/step - loss: 1.3098 - accuracy: 0.5260 - val_loss: 1.1960 - val_accuracy: 0.5417\n",
            "Epoch 36/60\n",
            "16/16 [==============================] - ETA: 0s - loss: 1.3321 - accuracy: 0.5382 \n",
            "Epoch 36: accuracy did not improve from 0.57401\n",
            "16/16 [==============================] - 311s 20s/step - loss: 1.3321 - accuracy: 0.5382 - val_loss: 0.9999 - val_accuracy: 0.6892\n",
            "Epoch 37/60\n",
            "16/16 [==============================] - ETA: 0s - loss: 1.2658 - accuracy: 0.5578\n",
            "Epoch 37: accuracy did not improve from 0.57401\n",
            "16/16 [==============================] - 300s 19s/step - loss: 1.2658 - accuracy: 0.5578 - val_loss: 0.9063 - val_accuracy: 0.6944\n",
            "Epoch 38/60\n",
            "16/16 [==============================] - ETA: 0s - loss: 1.2524 - accuracy: 0.5573 \n",
            "Epoch 38: accuracy did not improve from 0.57401\n",
            "16/16 [==============================] - 309s 20s/step - loss: 1.2524 - accuracy: 0.5573 - val_loss: 0.9017 - val_accuracy: 0.6962\n",
            "Epoch 39/60\n",
            "16/16 [==============================] - ETA: 0s - loss: 1.2820 - accuracy: 0.5399\n",
            "Epoch 39: accuracy did not improve from 0.57401\n",
            "16/16 [==============================] - 307s 19s/step - loss: 1.2820 - accuracy: 0.5399 - val_loss: 1.0722 - val_accuracy: 0.6267\n",
            "Epoch 40/60\n",
            "16/16 [==============================] - ETA: 0s - loss: 1.2716 - accuracy: 0.5226 \n",
            "Epoch 40: accuracy did not improve from 0.57401\n",
            "16/16 [==============================] - 310s 20s/step - loss: 1.2716 - accuracy: 0.5226 - val_loss: 0.9608 - val_accuracy: 0.6701\n",
            "Epoch 41/60\n",
            "16/16 [==============================] - ETA: 0s - loss: 1.3223 - accuracy: 0.5538 \n",
            "Epoch 41: accuracy did not improve from 0.57401\n",
            "16/16 [==============================] - 319s 20s/step - loss: 1.3223 - accuracy: 0.5538 - val_loss: 1.0191 - val_accuracy: 0.6267\n",
            "Epoch 42/60\n",
            "16/16 [==============================] - ETA: 0s - loss: 1.1301 - accuracy: 0.6111 \n",
            "Epoch 42: accuracy improved from 0.57401 to 0.61111, saving model to ./best_model.h5\n",
            "16/16 [==============================] - 317s 20s/step - loss: 1.1301 - accuracy: 0.6111 - val_loss: 0.8137 - val_accuracy: 0.7361\n",
            "Epoch 43/60\n",
            "16/16 [==============================] - ETA: 0s - loss: 1.2024 - accuracy: 0.5868 \n",
            "Epoch 43: accuracy did not improve from 0.61111\n",
            "16/16 [==============================] - 283s 18s/step - loss: 1.2024 - accuracy: 0.5868 - val_loss: 0.7985 - val_accuracy: 0.7309\n",
            "Epoch 44/60\n",
            "16/16 [==============================] - ETA: 0s - loss: 1.1878 - accuracy: 0.5694 \n",
            "Epoch 44: accuracy did not improve from 0.61111\n",
            "16/16 [==============================] - 313s 20s/step - loss: 1.1878 - accuracy: 0.5694 - val_loss: 0.8323 - val_accuracy: 0.6892\n",
            "Epoch 45/60\n",
            "16/16 [==============================] - ETA: 0s - loss: 1.0601 - accuracy: 0.6389 \n",
            "Epoch 45: accuracy improved from 0.61111 to 0.63889, saving model to ./best_model.h5\n",
            "16/16 [==============================] - 328s 21s/step - loss: 1.0601 - accuracy: 0.6389 - val_loss: 0.8654 - val_accuracy: 0.6719\n",
            "Epoch 46/60\n",
            " 1/16 [>.............................] - ETA: 3:40 - loss: 0.9924 - accuracy: 0.5833"
          ]
        }
      ]
    },
    {
      "cell_type": "code",
      "execution_count": null,
      "metadata": {
        "id": "-Wax99DV2ESr"
      },
      "outputs": [],
      "source": [
        "h = his.history\n",
        "h.keys()"
      ]
    },
    {
      "cell_type": "code",
      "source": [
        "plt.plot(h['loss'], 'go--', label='Loss')\n",
        "plt.plot(h['accuracy'], 'go--', color='blue', label='Accuracy')\n",
        "plt.title(\"Loss and Accuracy Over Time\")\n",
        "plt.xlabel(\"Epoch\")\n",
        "plt.ylabel(\"Value\")\n",
        "plt.legend()\n",
        "plt.show()"
      ],
      "metadata": {
        "id": "uC66Kx9IXOJ1"
      },
      "execution_count": null,
      "outputs": []
    },
    {
      "cell_type": "code",
      "source": [
        "plt.plot(h['val_loss'], 'go--', label='val_Loss')\n",
        "plt.plot(h['val_accuracy'], 'go--', color='blue', label='val_Accuracy')\n",
        "plt.title(\" val_Loss and val_Accuracy Over Time\")\n",
        "plt.xlabel(\"Epoch\")\n",
        "plt.ylabel(\"Value\")\n",
        "plt.legend()\n",
        "plt.show()"
      ],
      "metadata": {
        "id": "JEgsOu3z5ltz"
      },
      "execution_count": null,
      "outputs": []
    },
    {
      "cell_type": "code",
      "source": [
        "from keras.models import load_model\n",
        "model = load_model(\"/content/best_model.h5\")"
      ],
      "metadata": {
        "id": "npTAF_rx5nVb"
      },
      "execution_count": null,
      "outputs": []
    },
    {
      "cell_type": "markdown",
      "source": [
        "**Test Sample 1**\n"
      ],
      "metadata": {
        "id": "1ELPwXWQQnUb"
      }
    },
    {
      "cell_type": "code",
      "source": [
        "path = \"/content/dataset/dataset/train/Mango (P0)/0001_0008.JPG\"\n",
        "img = load_img(path,target_size = (256,256))\n",
        "i = img_to_array(img)\n",
        "im = preprocess_input(i)\n",
        "img = np.expand_dims(im,axis=0)\n",
        "pred =np.argmax( model.predict(img))\n",
        "print(\"The Image Belong to: \",swapped_dict[pred])"
      ],
      "metadata": {
        "id": "t4gPROEAWDvN"
      },
      "execution_count": null,
      "outputs": []
    },
    {
      "cell_type": "code",
      "source": [],
      "metadata": {
        "id": "n9APrUYpQdWb"
      },
      "execution_count": null,
      "outputs": []
    },
    {
      "cell_type": "markdown",
      "source": [
        "**Test Sample 2**"
      ],
      "metadata": {
        "id": "TowEbnmZQeFj"
      }
    },
    {
      "cell_type": "code",
      "source": [
        "path = \"/content/dataset/dataset/test/Jamun (P5)/0005_0072.JPG\"\n",
        "img = load_img(path,target_size = (256,256))\n",
        "i = img_to_array(img)\n",
        "im = preprocess_input(i)\n",
        "img = np.expand_dims(im,axis=0)\n",
        "pred =np.argmax( model.predict(img))\n",
        "print(\"The Image Belong to: \",swapped_dict[pred])"
      ],
      "metadata": {
        "id": "nlf8UXZuP79_"
      },
      "execution_count": null,
      "outputs": []
    },
    {
      "cell_type": "code",
      "source": [],
      "metadata": {
        "id": "BQ26WSg6QJkz"
      },
      "execution_count": null,
      "outputs": []
    }
  ],
  "metadata": {
    "accelerator": "GPU",
    "colab": {
      "gpuType": "T4",
      "provenance": [],
      "include_colab_link": true
    },
    "kernelspec": {
      "display_name": "Python 3",
      "name": "python3"
    },
    "language_info": {
      "name": "python"
    }
  },
  "nbformat": 4,
  "nbformat_minor": 0
}